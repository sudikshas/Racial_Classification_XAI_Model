{
 "cells": [
  {
   "cell_type": "code",
   "execution_count": 1,
   "metadata": {},
   "outputs": [],
   "source": [
    "import os\n",
    "import json\n",
    "import pandas as pd\n",
    "\n",
    "with open(\"./config/age_parameters.json\") as param:\n",
    "    data = json.load(param)\n",
    "    model_param = data[\"model_param\"]\n",
    "    data_info = data[\"load_data\"]\n",
    "\n",
    "param.close()\n",
    "\n",
    "lr = model_param[\"lr\"]\n",
    "epochs = model_param[\"epochs\"]\n",
    "train_batch_size = model_param[\"train_batch_size\"]\n",
    "valid_batch_size = model_param[\"valid_batch_size\"]\n",
    "save_path = model_param[\"save_path\"]\n",
    "log_path = model_param[\"log_path\"]\n",
    "IM_WIDTH = IM_HEIGHT = data_info[\"resize\"]"
   ]
  },
  {
   "cell_type": "code",
   "execution_count": 6,
   "metadata": {},
   "outputs": [],
   "source": [
    "data_path = \"/teams/DSC180A_FA20_A00/a01capstonegroup03/\""
   ]
  },
  {
   "cell_type": "code",
   "execution_count": 72,
   "metadata": {},
   "outputs": [],
   "source": [
    "train_csv = pd.read_csv(os.path.join(data_path, 'fairface_label_train.csv'))\n",
    "train_image_path = \"/teams/DSC180A_FA20_A00/a01capstonegroup03/fairface_pad025/train\"\n",
    "val_csv = pd.read_csv(os.path.join(data_path, 'fairface_label_val.csv'))\n",
    "val_image_path = \"/teams/DSC180A_FA20_A00/a01capstonegroup03/fairface_pad025/val\"\n",
    "df = pd.concat([train_csv, val_csv])"
   ]
  },
  {
   "cell_type": "code",
   "execution_count": 60,
   "metadata": {},
   "outputs": [],
   "source": [
    "train_csv[\"file\"] = train_csv[\"file\"].apply(lambda x: os.path.join(train_image_path, x.split(\"/\")[1]))"
   ]
  },
  {
   "cell_type": "code",
   "execution_count": 62,
   "metadata": {},
   "outputs": [
    {
     "data": {
      "text/plain": [
       "'/teams/DSC180A_FA20_A00/a01capstonegroup03/fairface_pad025/train/1.jpg'"
      ]
     },
     "execution_count": 62,
     "metadata": {},
     "output_type": "execute_result"
    }
   ],
   "source": [
    "train_csv[\"file\"][0]"
   ]
  },
  {
   "cell_type": "code",
   "execution_count": 73,
   "metadata": {},
   "outputs": [],
   "source": [
    "train_path_rename = os.listdir(train_image_path)\n",
    "train_path_rename = sorted(train_path_rename, key = lambda x: int(x.split(\".\")[0]))\n",
    "train_path_rename = list(map(lambda x: os.path.join(train_image_path, x), train_path_rename))\n",
    "\n",
    "valid_path_rename = os.listdir(val_image_path)\n",
    "valid_path_rename = sorted(valid_path_rename, key = lambda x: int(x.split(\".\")[0]))\n",
    "valid_path_rename = list(map(lambda x: os.path.join(val_image_path, x), valid_path_rename))\n",
    "#train_csv_df[\"file\"] = img_name"
   ]
  },
  {
   "cell_type": "code",
   "execution_count": 74,
   "metadata": {},
   "outputs": [],
   "source": [
    "train_csv[\"file\"] = train_path_rename\n",
    "val_csv[\"file\"] = valid_path_rename"
   ]
  },
  {
   "cell_type": "code",
   "execution_count": 75,
   "metadata": {},
   "outputs": [],
   "source": [
    "combined = pd.concat([train_csv, val_csv]).reset_index(drop = True)"
   ]
  },
  {
   "cell_type": "code",
   "execution_count": 76,
   "metadata": {},
   "outputs": [
    {
     "data": {
      "text/html": [
       "<div>\n",
       "<style scoped>\n",
       "    .dataframe tbody tr th:only-of-type {\n",
       "        vertical-align: middle;\n",
       "    }\n",
       "\n",
       "    .dataframe tbody tr th {\n",
       "        vertical-align: top;\n",
       "    }\n",
       "\n",
       "    .dataframe thead th {\n",
       "        text-align: right;\n",
       "    }\n",
       "</style>\n",
       "<table border=\"1\" class=\"dataframe\">\n",
       "  <thead>\n",
       "    <tr style=\"text-align: right;\">\n",
       "      <th></th>\n",
       "      <th>file</th>\n",
       "      <th>age</th>\n",
       "      <th>gender</th>\n",
       "      <th>race</th>\n",
       "      <th>service_test</th>\n",
       "    </tr>\n",
       "  </thead>\n",
       "  <tbody>\n",
       "    <tr>\n",
       "      <th>0</th>\n",
       "      <td>/teams/DSC180A_FA20_A00/a01capstonegroup03/fai...</td>\n",
       "      <td>50-59</td>\n",
       "      <td>Male</td>\n",
       "      <td>East Asian</td>\n",
       "      <td>True</td>\n",
       "    </tr>\n",
       "    <tr>\n",
       "      <th>1</th>\n",
       "      <td>/teams/DSC180A_FA20_A00/a01capstonegroup03/fai...</td>\n",
       "      <td>30-39</td>\n",
       "      <td>Female</td>\n",
       "      <td>Indian</td>\n",
       "      <td>False</td>\n",
       "    </tr>\n",
       "    <tr>\n",
       "      <th>2</th>\n",
       "      <td>/teams/DSC180A_FA20_A00/a01capstonegroup03/fai...</td>\n",
       "      <td>3-9</td>\n",
       "      <td>Female</td>\n",
       "      <td>Black</td>\n",
       "      <td>False</td>\n",
       "    </tr>\n",
       "    <tr>\n",
       "      <th>3</th>\n",
       "      <td>/teams/DSC180A_FA20_A00/a01capstonegroup03/fai...</td>\n",
       "      <td>20-29</td>\n",
       "      <td>Female</td>\n",
       "      <td>Indian</td>\n",
       "      <td>True</td>\n",
       "    </tr>\n",
       "    <tr>\n",
       "      <th>4</th>\n",
       "      <td>/teams/DSC180A_FA20_A00/a01capstonegroup03/fai...</td>\n",
       "      <td>20-29</td>\n",
       "      <td>Female</td>\n",
       "      <td>Indian</td>\n",
       "      <td>True</td>\n",
       "    </tr>\n",
       "    <tr>\n",
       "      <th>...</th>\n",
       "      <td>...</td>\n",
       "      <td>...</td>\n",
       "      <td>...</td>\n",
       "      <td>...</td>\n",
       "      <td>...</td>\n",
       "    </tr>\n",
       "    <tr>\n",
       "      <th>97693</th>\n",
       "      <td>/teams/DSC180A_FA20_A00/a01capstonegroup03/fai...</td>\n",
       "      <td>30-39</td>\n",
       "      <td>Male</td>\n",
       "      <td>White</td>\n",
       "      <td>True</td>\n",
       "    </tr>\n",
       "    <tr>\n",
       "      <th>97694</th>\n",
       "      <td>/teams/DSC180A_FA20_A00/a01capstonegroup03/fai...</td>\n",
       "      <td>50-59</td>\n",
       "      <td>Male</td>\n",
       "      <td>White</td>\n",
       "      <td>False</td>\n",
       "    </tr>\n",
       "    <tr>\n",
       "      <th>97695</th>\n",
       "      <td>/teams/DSC180A_FA20_A00/a01capstonegroup03/fai...</td>\n",
       "      <td>60-69</td>\n",
       "      <td>Male</td>\n",
       "      <td>Latino_Hispanic</td>\n",
       "      <td>False</td>\n",
       "    </tr>\n",
       "    <tr>\n",
       "      <th>97696</th>\n",
       "      <td>/teams/DSC180A_FA20_A00/a01capstonegroup03/fai...</td>\n",
       "      <td>20-29</td>\n",
       "      <td>Female</td>\n",
       "      <td>East Asian</td>\n",
       "      <td>False</td>\n",
       "    </tr>\n",
       "    <tr>\n",
       "      <th>97697</th>\n",
       "      <td>/teams/DSC180A_FA20_A00/a01capstonegroup03/fai...</td>\n",
       "      <td>40-49</td>\n",
       "      <td>Male</td>\n",
       "      <td>Latino_Hispanic</td>\n",
       "      <td>True</td>\n",
       "    </tr>\n",
       "  </tbody>\n",
       "</table>\n",
       "<p>97698 rows × 5 columns</p>\n",
       "</div>"
      ],
      "text/plain": [
       "                                                    file    age  gender  \\\n",
       "0      /teams/DSC180A_FA20_A00/a01capstonegroup03/fai...  50-59    Male   \n",
       "1      /teams/DSC180A_FA20_A00/a01capstonegroup03/fai...  30-39  Female   \n",
       "2      /teams/DSC180A_FA20_A00/a01capstonegroup03/fai...    3-9  Female   \n",
       "3      /teams/DSC180A_FA20_A00/a01capstonegroup03/fai...  20-29  Female   \n",
       "4      /teams/DSC180A_FA20_A00/a01capstonegroup03/fai...  20-29  Female   \n",
       "...                                                  ...    ...     ...   \n",
       "97693  /teams/DSC180A_FA20_A00/a01capstonegroup03/fai...  30-39    Male   \n",
       "97694  /teams/DSC180A_FA20_A00/a01capstonegroup03/fai...  50-59    Male   \n",
       "97695  /teams/DSC180A_FA20_A00/a01capstonegroup03/fai...  60-69    Male   \n",
       "97696  /teams/DSC180A_FA20_A00/a01capstonegroup03/fai...  20-29  Female   \n",
       "97697  /teams/DSC180A_FA20_A00/a01capstonegroup03/fai...  40-49    Male   \n",
       "\n",
       "                  race  service_test  \n",
       "0           East Asian          True  \n",
       "1               Indian         False  \n",
       "2                Black         False  \n",
       "3               Indian          True  \n",
       "4               Indian          True  \n",
       "...                ...           ...  \n",
       "97693            White          True  \n",
       "97694            White         False  \n",
       "97695  Latino_Hispanic         False  \n",
       "97696       East Asian         False  \n",
       "97697  Latino_Hispanic          True  \n",
       "\n",
       "[97698 rows x 5 columns]"
      ]
     },
     "execution_count": 76,
     "metadata": {},
     "output_type": "execute_result"
    }
   ],
   "source": [
    "combined"
   ]
  },
  {
   "cell_type": "code",
   "execution_count": 77,
   "metadata": {},
   "outputs": [],
   "source": [
    "combined[len(combined)- 1000:].to_csv(\"/teams/DSC180A_FA20_A00/a01capstonegroup03/redistributed_csv/fairface_label_val.csv\",\n",
    "                                   index = False)\n",
    "combined[:len(combined)- 1000].to_csv(\"/teams/DSC180A_FA20_A00/a01capstonegroup03/redistributed_csv/fairface_label_train.csv\",\n",
    "                                   index = False)"
   ]
  },
  {
   "cell_type": "code",
   "execution_count": 39,
   "metadata": {},
   "outputs": [],
   "source": [
    "combined = pd.concat([train_csv, val_csv]).reset_index(drop = True)"
   ]
  },
  {
   "cell_type": "code",
   "execution_count": 45,
   "metadata": {},
   "outputs": [
    {
     "data": {
      "text/plain": [
       "'/teams/DSC180A_FA20_A00/a01capstonegroup03/fairface_pad025/val/10950.jpg'"
      ]
     },
     "execution_count": 45,
     "metadata": {},
     "output_type": "execute_result"
    }
   ],
   "source": []
  },
  {
   "cell_type": "code",
   "execution_count": null,
   "metadata": {},
   "outputs": [],
   "source": []
  }
 ],
 "metadata": {
  "kernelspec": {
   "display_name": "Python 3",
   "language": "python",
   "name": "python3"
  },
  "language_info": {
   "codemirror_mode": {
    "name": "ipython",
    "version": 3
   },
   "file_extension": ".py",
   "mimetype": "text/x-python",
   "name": "python",
   "nbconvert_exporter": "python",
   "pygments_lexer": "ipython3",
   "version": "3.8.6"
  }
 },
 "nbformat": 4,
 "nbformat_minor": 4
}
