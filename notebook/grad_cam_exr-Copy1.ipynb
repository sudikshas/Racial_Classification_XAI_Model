{
 "cells": [
  {
   "cell_type": "code",
   "execution_count": 1,
   "metadata": {},
   "outputs": [],
   "source": [
    "from tensorflow.keras.applications import vgg16\n",
    "from tensorflow import keras\n",
    "from tensorflow.keras.applications import resnet_v2\n",
    "from tensorflow.keras.preprocessing import image\n",
    "from tensorflow.keras.layers import Lambda\n",
    "from tensorflow.keras.models import Sequential\n",
    "from tensorflow.python.framework import ops\n",
    "import tensorflow.keras.backend as K\n",
    "import tensorflow as tf\n",
    "import numpy as np\n",
    "from tensorflow import keras\n",
    "import sys\n",
    "import cv2\n",
    "from tensorflow.keras.models import load_model\n",
    "import json\n",
    "import dlib\n",
    "from PIL import Image\n",
    "tf.compat.v1.disable_eager_execution()\n"
   ]
  },
  {
   "cell_type": "code",
   "execution_count": 2,
   "metadata": {},
   "outputs": [],
   "source": [
    "from keras.models import load_model\n",
    "import os\n",
    "import sys\n",
    "import pandas as pd\n",
    "from PIL import Image\n",
    "import numpy as np\n",
    "sys.path.insert(1, '../src')\n",
    "\n",
    "import preprocess_image\n",
    "import importlib\n",
    "importlib.reload(preprocess_image)\n",
    "\n",
    "import matplotlib.pyplot as plt"
   ]
  },
  {
   "cell_type": "code",
   "execution_count": 5,
   "metadata": {},
   "outputs": [],
   "source": [
    "# with open(\"./config/parameters.json\") as f:\n",
    "#     data = json.load(f)\n",
    "# f.close()\n",
    "\n",
    "# model_param = data[\"model_param\"]\n",
    "# lr, epochs, batch_size, mapping_path, save_path, log_path, biased_save_path = model_param.values()\n",
    "\n",
    "# with open(mapping_path) as f:\n",
    "#     mapping = json.load(f)\n",
    "# f.close()"
   ]
  },
  {
   "cell_type": "code",
   "execution_count": 3,
   "metadata": {},
   "outputs": [
    {
     "data": {
      "text/plain": [
       "{'lr': 0.0008,\n",
       " 'epochs': 300,\n",
       " 'batch_size': 128,\n",
       " 'mapping_path': './mapping/race.json',\n",
       " 'save_path': './models/race/race_v6.hdf5',\n",
       " 'log_path': './logs/race/race_v6.csv'}"
      ]
     },
     "execution_count": 3,
     "metadata": {},
     "output_type": "execute_result"
    }
   ],
   "source": [
    "model_param"
   ]
  },
  {
   "cell_type": "code",
   "execution_count": 4,
   "metadata": {},
   "outputs": [
    {
     "data": {
      "text/plain": [
       "{'Black': 0,\n",
       " 'East Asian': 1,\n",
       " 'Indian': 2,\n",
       " 'Latino_Hispanic': 3,\n",
       " 'Middle Eastern': 4,\n",
       " 'Southeast Asian': 5,\n",
       " 'White': 6}"
      ]
     },
     "execution_count": 4,
     "metadata": {},
     "output_type": "execute_result"
    }
   ],
   "source": [
    "mapping"
   ]
  },
  {
   "cell_type": "code",
   "execution_count": 19,
   "metadata": {},
   "outputs": [],
   "source": [
    "def detect_face(image_path, im_size = 224, default_max_size=800,size = 300, padding = 0.25):\n",
    "    cnn_face_detector = dlib.cnn_face_detection_model_v1('./dlib_mod/mmod_human_face_detector.dat')\n",
    "    sp = dlib.shape_predictor('./dlib_mod/shape_predictor_5_face_landmarks.dat')\n",
    "    base = 2000  # largest width and height\n",
    "\n",
    "    img = dlib.load_rgb_image(image_path)\n",
    "    old_height, old_width, _ = img.shape\n",
    "    old_height, old_width, _ = img.shape\n",
    "\n",
    "    if old_width > old_height:\n",
    "        new_width, new_height = default_max_size, int(default_max_size * old_height / old_width)\n",
    "    else:\n",
    "        new_width, new_height =  int(default_max_size * old_width / old_height), default_max_size\n",
    "    img = dlib.resize_image(img, rows=new_height, cols=new_width)\n",
    "    dets = cnn_face_detector(img, 1)\n",
    "    num_faces = len(dets)\n",
    "    if num_faces == 0:\n",
    "        print(\"Sorry, there were no faces found in '{}'\".format(image_path))\n",
    "        return\n",
    "    elif num_faces > 1:\n",
    "        print(\"Multiple face in '{}'. A random face will be returned\".format(image_path))\n",
    "    faces = dlib.full_object_detections()\n",
    "    for detection in dets:\n",
    "        rect = detection.rect\n",
    "        faces.append(sp(img, rect))\n",
    "    image = dlib.get_face_chips(img, faces, size=size, padding = padding)[0]\n",
    "\n",
    "    image = Image.fromarray(image, 'RGB')\n",
    "    image = image.resize((im_size, im_size))\n",
    "\n",
    "    #image = np.array(image) / 255.0\n",
    "    #ori_img = np.array(image)\n",
    "    processed_img = resnet_v2.preprocess_input(np.array(image))\n",
    "    processed_img = processed_img[None,:]\n",
    "    return processed_img\n",
    "\n",
    "def target_category_loss(x, category_index, nb_classes):\n",
    "    return tf.multiply(x, K.one_hot([category_index], nb_classes))\n",
    "\n",
    "def target_category_loss_output_shape(input_shape):\n",
    "    return input_shape\n",
    "\n",
    "def normalize(x):\n",
    "    # utility function to normalize a tensor by its L2 norm\n",
    "    return x / (K.sqrt(K.mean(K.square(x))) + 1e-5)\n",
    "\n",
    "def load_image(path):\n",
    "    img_path = path\n",
    "    img = image.load_img(img_path, target_size=(224, 224))\n",
    "    x = image.img_to_array(img)\n",
    "    x = np.expand_dims(x, axis=0)\n",
    "    x = resnet_v2.preprocess_input(x)\n",
    "    #x = detect_face(img_path)\n",
    "    return x\n",
    "\n",
    "def register_gradient():\n",
    "    if \"GuidedBackProp\" not in ops._gradient_registry._registry:\n",
    "        @ops.RegisterGradient(\"GuidedBackProp\")\n",
    "        def _GuidedBackProp(op, grad):\n",
    "            dtype = op.inputs[0].dtype\n",
    "            return grad * tf.cast(grad > 0., dtype) * \\\n",
    "                tf.cast(op.inputs[0] > 0., dtype)\n",
    "\n",
    "def compile_saliency_function(model, activation_layer='conv2d_7'):\n",
    "    input_img = model.input\n",
    "    layer_dict = dict([(layer.name, layer) for layer in model.layers[1:]])\n",
    "    layer_output = layer_dict[activation_layer].output\n",
    "    max_output = K.max(layer_output, axis=3)\n",
    "    saliency = K.gradients(K.sum(max_output), input_img)[0]\n",
    "    return K.function([input_img, K.learning_phase()], [saliency])\n",
    "\n",
    "def modify_backprop(model, name):\n",
    "    g = tf.compat.v1.get_default_graph()\n",
    "    with g.gradient_override_map({'Relu': name}):\n",
    "\n",
    "        # get layers that have an activation\n",
    "        layer_dict = [layer for layer in model.layers[1:]\n",
    "                      if hasattr(layer, 'activation')]\n",
    "\n",
    "        # replace relu activation\n",
    "        for layer in layer_dict:\n",
    "            if layer.activation == keras.activations.relu:\n",
    "                layer.activation = tf.nn.relu\n",
    "\n",
    "        # re-instanciate a new model\n",
    "        new_model = load_model(save_path)\n",
    "    return new_model\n",
    "\n",
    "def deprocess_image(x):\n",
    "    '''\n",
    "    Same normalization as in:\n",
    "    https://github.com/fchollet/keras/blob/master/examples/conv_filter_visualization.py\n",
    "    '''\n",
    "    if np.ndim(x) > 3:\n",
    "        x = np.squeeze(x)\n",
    "    # normalize tensor: center on 0., ensure std is 0.1\n",
    "    x -= x.mean()\n",
    "    x /= (x.std() + 1e-5)\n",
    "    x *= 0.1\n",
    "\n",
    "    # clip to [0, 1]\n",
    "    x += 0.5\n",
    "    x = np.clip(x, 0, 1)\n",
    "\n",
    "    # convert to RGB array\n",
    "    x *= 255\n",
    "    #if K.image_dim_ordering() == 'th':\n",
    "    #    x = x.transpose((1, 2, 0))\n",
    "    x = np.clip(x, 0, 255).astype('uint8')\n",
    "    return x\n",
    "\n",
    "def grad_cam(input_model, input_biased_model, image, category_index, biased_category_index, layer_name):\n",
    "    model = input_model\n",
    "    biased_model = input_biased_model\n",
    "    #model = Sequential()\n",
    "    #model.add(input_model)\n",
    "\n",
    "    nb_classes = 7\n",
    "    target_layer = lambda x: target_category_loss(x, category_index, nb_classes)\n",
    "    biased_target_layer = lambda x: target_category_loss(x, biased_category_index, nb_classes)\n",
    "    \n",
    "    model.add(Lambda(target_layer,\n",
    "                     output_shape = target_category_loss_output_shape))\n",
    "    \n",
    "    biased_model.add(Lambda(biased_target_layer,\n",
    "                     output_shape = target_category_loss_output_shape))\n",
    "\n",
    "    loss = K.sum(model.layers[-1].output)\n",
    "    #print(\"loss: \", loss)\n",
    "    biased_loss = K.sum(biased_model.layers[-1].output)\n",
    "    \n",
    "    #conv_output =  [l for l in model.layers[0].layers if l.name is layer_name][0].output\n",
    "    conv_output =  [l for l in model.layers if l.name == layer_name][0].output\n",
    "    #print(\"conv_output: \", conv_output)\n",
    "    biased_conv_output =  [l for l in biased_model.layers if l.name == layer_name][0].output\n",
    "    \n",
    "    \n",
    "    grads = normalize(K.gradients(loss, conv_output)[0])\n",
    "    biased_grads = normalize(K.gradients(biased_loss, biased_conv_output)[0])\n",
    "    \n",
    "    gradient_function = K.function([model.layers[0].input], [conv_output, grads])\n",
    "    biased_gradient_function = K.function([biased_model.layers[0].input], [biased_conv_output, biased_grads])\n",
    "    \n",
    "\n",
    "    output, grads_val = gradient_function([image])\n",
    "    biased_output, biased_grads_val = biased_gradient_function([image])\n",
    "    \n",
    "    output, grads_val = output[0, :], grads_val[0, :, :, :]\n",
    "    biased_output, biased_grads_val = biased_output[0, :], biased_grads_val[0, :, :, :]\n",
    "    \n",
    "\n",
    "    weights = np.mean(grads_val, axis = (0, 1))\n",
    "    biased_weights = np.mean(biased_grads_val, axis = (0, 1))\n",
    "    \n",
    "    cam = np.ones(output.shape[0 : 2], dtype = np.float32)\n",
    "    biased_cam = np.ones(biased_output.shape[0 : 2], dtype = np.float32)\n",
    "\n",
    "    for i, w in enumerate(weights):\n",
    "        cam += w * output[:, :, i]\n",
    "    for i, w in enumerate(biased_weights):\n",
    "        biased_cam += w * biased_output[:, :, i]\n",
    "\n",
    "    cam = cv2.resize(cam, (224, 224))\n",
    "    biased_cam = cv2.resize(biased_cam, (224, 224))\n",
    "    #print(\"cam1: \", cam)\n",
    "    cam = np.maximum(cam, 0)\n",
    "    biased_cam = np.maximum(biased_cam, 0)\n",
    "    #print(\"cam2: \", cam)\n",
    "\n",
    "    max_arr = np.concatenate([cam,biased_cam])\n",
    "#     return np.max(cam)\n",
    "    max_norm = np.max(max_arr)\n",
    "#     print(\"cam_max: \", np.max(cam))\n",
    "#     print(\"b_cam max: \", np.max(biased_cam))\n",
    "#     return max_norm\n",
    "#     heatmap = cam / np.max(cam)\n",
    "    heatmap = cam / np.max(cam)\n",
    "    biased_heatmap = biased_cam/ max_norm\n",
    "    \n",
    "    #print(\"heat: \", heatmap)\n",
    "\n",
    "    #Return to BGR [0..255] from the preprocessed image\n",
    "    image = image[0, :]\n",
    "    image -= np.min(image)\n",
    "    image = np.minimum(image, 255)\n",
    "    image = cv2.cvtColor(image, cv2.COLOR_BGR2RGB)\n",
    "\n",
    "    cam = cv2.applyColorMap(np.uint8(255*heatmap), cv2.COLORMAP_JET)\n",
    "    biased_cam = cv2.applyColorMap(np.uint8(255*biased_heatmap), cv2.COLORMAP_JET)\n",
    "    \n",
    "    heatmap = cv2.applyColorMap(np.uint8(255*heatmap), cv2.COLORMAP_JET)\n",
    "    biased_heatmap = cv2.applyColorMap(np.uint8(255*biased_heatmap), cv2.COLORMAP_JET)\n",
    "    \n",
    "    cam = np.float32(cam / 255) + np.float32(image)\n",
    "    biased_cam = np.float32(biased_cam / 255) + np.float32(image)\n",
    "    #heatmap = np.float32(cam / 255)\n",
    "    \n",
    "    cam = 255 * cam / np.max(cam)\n",
    "    biased_cam = 255 * biased_cam / np.max(biased_cam)\n",
    "    #heatmap = 255 * heatmap / np.max(heatmap)\n",
    "    \n",
    "    return np.uint8(cam), np.uint8(biased_cam), heatmap, biased_heatmap, image\n",
    "    #return cam, heatmap, image"
   ]
  },
  {
   "cell_type": "code",
   "execution_count": 4,
   "metadata": {},
   "outputs": [
    {
     "name": "stdout",
     "output_type": "stream",
     "text": [
      "WARNING:tensorflow:From /opt/conda/lib/python3.8/site-packages/tensorflow/python/ops/resource_variable_ops.py:1659: calling BaseResourceVariable.__init__ (from tensorflow.python.ops.resource_variable_ops) with constraint is deprecated and will be removed in a future version.\n",
      "Instructions for updating:\n",
      "If using Keras pass *_constraint arguments to layers.\n"
     ]
    }
   ],
   "source": [
    "model = load_model(save_path)"
   ]
  },
  {
   "cell_type": "markdown",
   "metadata": {},
   "source": [
    "### NOTE\n",
    "\n",
    "If you want to input your own image(i.e. images that are not from the FairFace), please uncomment the last line in load_image function and comment out the rest(except the first line)\n",
    "\n",
    "* After you run the code below, it will generate two images: one for grad-cam and one for guided grad-cam. "
   ]
  },
  {
   "cell_type": "code",
   "execution_count": 5,
   "metadata": {
    "scrolled": true
   },
   "outputs": [
    {
     "data": {
      "text/plain": [
       "True"
      ]
     },
     "execution_count": 5,
     "metadata": {},
     "output_type": "execute_result"
    }
   ],
   "source": [
    "sample_img = '/teams/DSC180A_FA20_A00/a01explainableai/a01capstonegroup03/fairface_pad025/val/7.jpg'\n",
    "#sample_img = \"./IMG_5321.jpg\"\n",
    "preprocessed_input = load_image(sample_img)\n",
    "predictions = model.predict(preprocessed_input)\n",
    "predicted_class = np.argmax(predictions)\n",
    "cam, heatmap, img = grad_cam(model, preprocessed_input, predicted_class, \"conv2d_7\")\n",
    "cv2.imwrite(\"gradcam_7.jpg\", cam)\n",
    "\n",
    "register_gradient()\n",
    "guided_model = modify_backprop(model, 'GuidedBackProp')\n",
    "saliency_fn = compile_saliency_function(guided_model)\n",
    "saliency = saliency_fn([preprocessed_input, 0])\n",
    "gradcam = saliency[0] * heatmap[..., np.newaxis]\n",
    "cv2.imwrite(\"guided_gradcam_7.jpg\", deprocess_image(gradcam))"
   ]
  },
  {
   "cell_type": "code",
   "execution_count": null,
   "metadata": {},
   "outputs": [],
   "source": [
    "#******"
   ]
  },
  {
   "cell_type": "code",
   "execution_count": 11,
   "metadata": {},
   "outputs": [
    {
     "name": "stdout",
     "output_type": "stream",
     "text": [
      "cam_max:  15.540716\n",
      "b_cam max:  364.7844\n"
     ]
    },
    {
     "data": {
      "text/plain": [
       "364.7844"
      ]
     },
     "execution_count": 11,
     "metadata": {},
     "output_type": "execute_result"
    }
   ],
   "source": [
    "# preprocessed_input = load_image(img_path)\n",
    "# predictions = race_model.predict(preprocessed_input)\n",
    "# biased_preds = race_biased_model.predict(preprocessed_input)\n",
    "\n",
    "# predicted_class = np.argmax(predictions)\n",
    "# biased_class = np.argmax(biased_preds)\n",
    "\n",
    "# grad_cam(race_model, race_biased_model, preprocessed_input, predicted_class, biased_class, \"conv2d_7\")"
   ]
  },
  {
   "cell_type": "code",
   "execution_count": 75,
   "metadata": {},
   "outputs": [],
   "source": [
    "race_biased_model = load_model(\"../race_biased_v1-Copy1.hdf5\")\n",
    "race_model = load_model(\"../race_t6-Copy1.hdf5\") "
   ]
  },
  {
   "cell_type": "code",
   "execution_count": 106,
   "metadata": {},
   "outputs": [
    {
     "data": {
      "image/png": "[encoded data removed]",
      "text/plain": [
       "<PIL.JpegImagePlugin.JpegImageFile image mode=RGB size=224x224 at 0x7F3878636850>"
      ]
     },
     "execution_count": 106,
     "metadata": {},
     "output_type": "execute_result"
    }
   ],
   "source": [
    "img_num = 97\n",
    "img_path = os.path.join(\"../../a01capstonegroup03/fairface_pad025/\", \"val/\" + str(img_num) + \".jpg\")\n",
    "image_open = Image.open(img_path)\n",
    "image_open"
   ]
  },
  {
   "cell_type": "code",
   "execution_count": 107,
   "metadata": {},
   "outputs": [
    {
     "data": {
      "text/plain": [
       "True"
      ]
     },
     "execution_count": 107,
     "metadata": {},
     "output_type": "execute_result"
    }
   ],
   "source": [
    "#UNBIASED RACE GRAD-CAM\n",
    "race_biased_model = load_model(\"../race_biased_v1-Copy1.hdf5\")\n",
    "race_model = load_model(\"../race_t6-Copy1.hdf5\") \n",
    "\n",
    "preprocessed_input = load_image(img_path)\n",
    "predictions = race_model.predict(preprocessed_input)\n",
    "biased_preds = race_biased_model.predict(preprocessed_input)\n",
    "\n",
    "predicted_class = np.argmax(predictions)\n",
    "biased_class = np.argmax(biased_preds)\n",
    "\n",
    "cam, biased_cam, heatmap, biased_heatmap, img = grad_cam(race_model, race_biased_model, preprocessed_input, predicted_class, biased_class, \"conv2d_7\")\n",
    "#cv2.imwrite(\"heatmap_\" + str(img_num) + \".jpg\", heatmap)\n",
    "#cv2.imwrite(\"gradcam_\" + str(img_num) + \".jpg\", cam)\n",
    "cv2.imwrite(\"GRADCAM_\" + str(img_num) + \".jpg\", cam)\n",
    "cv2.imwrite(\"BIASED_GRADCAM_\" + str(img_num) + \".jpg\", biased_cam)"
   ]
  },
  {
   "cell_type": "code",
   "execution_count": 108,
   "metadata": {},
   "outputs": [
    {
     "data": {
      "text/plain": [
       "(2, 3)"
      ]
     },
     "execution_count": 108,
     "metadata": {},
     "output_type": "execute_result"
    }
   ],
   "source": [
    "predicted_class, biased_class"
   ]
  },
  {
   "cell_type": "code",
   "execution_count": 109,
   "metadata": {},
   "outputs": [
    {
     "data": {
      "text/html": [
       "<div>\n",
       "<style scoped>\n",
       "    .dataframe tbody tr th:only-of-type {\n",
       "        vertical-align: middle;\n",
       "    }\n",
       "\n",
       "    .dataframe tbody tr th {\n",
       "        vertical-align: top;\n",
       "    }\n",
       "\n",
       "    .dataframe thead th {\n",
       "        text-align: right;\n",
       "    }\n",
       "</style>\n",
       "<table border=\"1\" class=\"dataframe\">\n",
       "  <thead>\n",
       "    <tr style=\"text-align: right;\">\n",
       "      <th></th>\n",
       "      <th>file</th>\n",
       "      <th>age</th>\n",
       "      <th>gender</th>\n",
       "      <th>race</th>\n",
       "      <th>service_test</th>\n",
       "    </tr>\n",
       "  </thead>\n",
       "  <tbody>\n",
       "    <tr>\n",
       "      <th>96</th>\n",
       "      <td>val/97.jpg</td>\n",
       "      <td>50-59</td>\n",
       "      <td>Female</td>\n",
       "      <td>Indian</td>\n",
       "      <td>True</td>\n",
       "    </tr>\n",
       "  </tbody>\n",
       "</table>\n",
       "</div>"
      ],
      "text/plain": [
       "          file    age  gender    race  service_test\n",
       "96  val/97.jpg  50-59  Female  Indian          True"
      ]
     },
     "execution_count": 109,
     "metadata": {},
     "output_type": "execute_result"
    }
   ],
   "source": [
    "val_df[val_df['file'] == \"val/\" + str(img_num) + \".jpg\"]"
   ]
  },
  {
   "cell_type": "code",
   "execution_count": null,
   "metadata": {},
   "outputs": [],
   "source": []
  },
  {
   "cell_type": "code",
   "execution_count": 84,
   "metadata": {},
   "outputs": [],
   "source": [
    "preprocessed_input = load_image(img_path)\n",
    "predictions = race_model.predict(preprocessed_input)"
   ]
  },
  {
   "cell_type": "code",
   "execution_count": 85,
   "metadata": {},
   "outputs": [
    {
     "data": {
      "text/plain": [
       "array([[0.00117577, 0.0015174 , 0.62585884, 0.2310237 , 0.10587282,\n",
       "        0.00729686, 0.02725458]], dtype=float32)"
      ]
     },
     "execution_count": 85,
     "metadata": {},
     "output_type": "execute_result"
    }
   ],
   "source": [
    "predictions"
   ]
  },
  {
   "cell_type": "code",
   "execution_count": 79,
   "metadata": {},
   "outputs": [],
   "source": [
    "predicted_class = np.argmax(predictions)"
   ]
  },
  {
   "cell_type": "code",
   "execution_count": 80,
   "metadata": {},
   "outputs": [
    {
     "data": {
      "text/plain": [
       "2"
      ]
     },
     "execution_count": 80,
     "metadata": {},
     "output_type": "execute_result"
    }
   ],
   "source": [
    "predicted_class"
   ]
  },
  {
   "cell_type": "code",
   "execution_count": 51,
   "metadata": {},
   "outputs": [
    {
     "data": {
      "text/plain": [
       "array([[0.        , 0.        , 0.05369131, 0.        , 0.        ,\n",
       "        0.        , 0.        ]], dtype=float32)"
      ]
     },
     "execution_count": 51,
     "metadata": {},
     "output_type": "execute_result"
    }
   ],
   "source": [
    "predictions"
   ]
  },
  {
   "cell_type": "code",
   "execution_count": null,
   "metadata": {},
   "outputs": [],
   "source": []
  },
  {
   "cell_type": "code",
   "execution_count": null,
   "metadata": {},
   "outputs": [],
   "source": []
  },
  {
   "cell_type": "code",
   "execution_count": null,
   "metadata": {},
   "outputs": [],
   "source": [
    "race_biased_model.summary()"
   ]
  },
  {
   "cell_type": "code",
   "execution_count": 37,
   "metadata": {},
   "outputs": [
    {
     "data": {
      "text/plain": [
       "True"
      ]
     },
     "execution_count": 37,
     "metadata": {},
     "output_type": "execute_result"
    }
   ],
   "source": [
    "#BIASED RACE GRAD-CAM\n",
    "preprocessed_input = load_image(img_path)\n",
    "predictions = race_biased_model.predict(preprocessed_input)\n",
    "predicted_class = np.argmax(predictions)\n",
    "cam, heatmap, img = grad_cam(race_biased_model, preprocessed_input, predicted_class, \"conv2d_7\")\n",
    "#cv2.imwrite(\"biased_heatmap_\" + str(img_num) + \".jpg\", heatmap)\n",
    "cv2.imwrite(\"biased_gradcam_\" + str(img_num) + \".jpg\", cam)"
   ]
  },
  {
   "cell_type": "code",
   "execution_count": 38,
   "metadata": {},
   "outputs": [
    {
     "data": {
      "text/plain": [
       "3"
      ]
     },
     "execution_count": 38,
     "metadata": {},
     "output_type": "execute_result"
    }
   ],
   "source": [
    "predicted_class"
   ]
  },
  {
   "cell_type": "code",
   "execution_count": 32,
   "metadata": {},
   "outputs": [],
   "source": [
    "race_dict = {\n",
    "        6: 'White', \n",
    "        0: 'Black', \n",
    "        1: 'East Asian', \n",
    "        2: 'Indian', \n",
    "        4: 'Middle Eastern',\n",
    "        3: 'Latino_Hispanic',\n",
    "        5: 'Southeast Asian'\n",
    "}"
   ]
  },
  {
   "cell_type": "code",
   "execution_count": 11,
   "metadata": {},
   "outputs": [
    {
     "ename": "NameError",
     "evalue": "name 'img_face' is not defined",
     "output_type": "error",
     "traceback": [
      "\u001b[0;31m\u001b[0m",
      "\u001b[0;31mNameError\u001b[0mTraceback (most recent call last)",
      "\u001b[0;32m<ipython-input-11-9de6b0ed3cf8>\u001b[0m in \u001b[0;36m<module>\u001b[0;34m\u001b[0m\n\u001b[0;32m----> 1\u001b[0;31m \u001b[0mimg_face\u001b[0m\u001b[0;34m\u001b[0m\u001b[0;34m\u001b[0m\u001b[0m\n\u001b[0m",
      "\u001b[0;31mNameError\u001b[0m: name 'img_face' is not defined"
     ]
    }
   ],
   "source": []
  },
  {
   "cell_type": "code",
   "execution_count": null,
   "metadata": {},
   "outputs": [],
   "source": [
    "#Average Heatmaps"
   ]
  },
  {
   "cell_type": "code",
   "execution_count": 21,
   "metadata": {},
   "outputs": [
    {
     "data": {
      "text/html": [
       "<div>\n",
       "<style scoped>\n",
       "    .dataframe tbody tr th:only-of-type {\n",
       "        vertical-align: middle;\n",
       "    }\n",
       "\n",
       "    .dataframe tbody tr th {\n",
       "        vertical-align: top;\n",
       "    }\n",
       "\n",
       "    .dataframe thead th {\n",
       "        text-align: right;\n",
       "    }\n",
       "</style>\n",
       "<table border=\"1\" class=\"dataframe\">\n",
       "  <thead>\n",
       "    <tr style=\"text-align: right;\">\n",
       "      <th></th>\n",
       "      <th>file</th>\n",
       "      <th>age</th>\n",
       "      <th>gender</th>\n",
       "      <th>race</th>\n",
       "      <th>service_test</th>\n",
       "    </tr>\n",
       "  </thead>\n",
       "  <tbody>\n",
       "    <tr>\n",
       "      <th>0</th>\n",
       "      <td>val/1.jpg</td>\n",
       "      <td>3-9</td>\n",
       "      <td>Male</td>\n",
       "      <td>East Asian</td>\n",
       "      <td>False</td>\n",
       "    </tr>\n",
       "    <tr>\n",
       "      <th>1</th>\n",
       "      <td>val/2.jpg</td>\n",
       "      <td>50-59</td>\n",
       "      <td>Female</td>\n",
       "      <td>East Asian</td>\n",
       "      <td>True</td>\n",
       "    </tr>\n",
       "    <tr>\n",
       "      <th>2</th>\n",
       "      <td>val/3.jpg</td>\n",
       "      <td>30-39</td>\n",
       "      <td>Male</td>\n",
       "      <td>White</td>\n",
       "      <td>True</td>\n",
       "    </tr>\n",
       "    <tr>\n",
       "      <th>3</th>\n",
       "      <td>val/4.jpg</td>\n",
       "      <td>20-29</td>\n",
       "      <td>Female</td>\n",
       "      <td>Latino_Hispanic</td>\n",
       "      <td>True</td>\n",
       "    </tr>\n",
       "    <tr>\n",
       "      <th>4</th>\n",
       "      <td>val/5.jpg</td>\n",
       "      <td>20-29</td>\n",
       "      <td>Male</td>\n",
       "      <td>Southeast Asian</td>\n",
       "      <td>False</td>\n",
       "    </tr>\n",
       "  </tbody>\n",
       "</table>\n",
       "</div>"
      ],
      "text/plain": [
       "        file    age  gender             race  service_test\n",
       "0  val/1.jpg    3-9    Male       East Asian         False\n",
       "1  val/2.jpg  50-59  Female       East Asian          True\n",
       "2  val/3.jpg  30-39    Male            White          True\n",
       "3  val/4.jpg  20-29  Female  Latino_Hispanic          True\n",
       "4  val/5.jpg  20-29    Male  Southeast Asian         False"
      ]
     },
     "execution_count": 21,
     "metadata": {},
     "output_type": "execute_result"
    }
   ],
   "source": [
    "val_df = pd.read_csv(\"../../a01capstonegroup03/fairface_label_val.csv\")\n",
    "val_df.head()"
   ]
  },
  {
   "cell_type": "code",
   "execution_count": 25,
   "metadata": {},
   "outputs": [
    {
     "data": {
      "text/html": [
       "<div>\n",
       "<style scoped>\n",
       "    .dataframe tbody tr th:only-of-type {\n",
       "        vertical-align: middle;\n",
       "    }\n",
       "\n",
       "    .dataframe tbody tr th {\n",
       "        vertical-align: top;\n",
       "    }\n",
       "\n",
       "    .dataframe thead th {\n",
       "        text-align: right;\n",
       "    }\n",
       "</style>\n",
       "<table border=\"1\" class=\"dataframe\">\n",
       "  <thead>\n",
       "    <tr style=\"text-align: right;\">\n",
       "      <th></th>\n",
       "      <th>file</th>\n",
       "      <th>age</th>\n",
       "      <th>gender</th>\n",
       "      <th>race</th>\n",
       "      <th>service_test</th>\n",
       "    </tr>\n",
       "  </thead>\n",
       "  <tbody>\n",
       "    <tr>\n",
       "      <th>139</th>\n",
       "      <td>val/140.jpg</td>\n",
       "      <td>3-9</td>\n",
       "      <td>Male</td>\n",
       "      <td>Southeast Asian</td>\n",
       "      <td>False</td>\n",
       "    </tr>\n",
       "  </tbody>\n",
       "</table>\n",
       "</div>"
      ],
      "text/plain": [
       "            file  age gender             race  service_test\n",
       "139  val/140.jpg  3-9   Male  Southeast Asian         False"
      ]
     },
     "execution_count": 25,
     "metadata": {},
     "output_type": "execute_result"
    }
   ],
   "source": [
    "val_df[val_df['file'] == \"val/\" + str(img_num) + \".jpg\"]"
   ]
  },
  {
   "cell_type": "code",
   "execution_count": 104,
   "metadata": {},
   "outputs": [
    {
     "data": {
      "text/html": [
       "<div>\n",
       "<style scoped>\n",
       "    .dataframe tbody tr th:only-of-type {\n",
       "        vertical-align: middle;\n",
       "    }\n",
       "\n",
       "    .dataframe tbody tr th {\n",
       "        vertical-align: top;\n",
       "    }\n",
       "\n",
       "    .dataframe thead th {\n",
       "        text-align: right;\n",
       "    }\n",
       "</style>\n",
       "<table border=\"1\" class=\"dataframe\">\n",
       "  <thead>\n",
       "    <tr style=\"text-align: right;\">\n",
       "      <th></th>\n",
       "      <th>file</th>\n",
       "      <th>age</th>\n",
       "      <th>gender</th>\n",
       "      <th>race</th>\n",
       "      <th>service_test</th>\n",
       "    </tr>\n",
       "  </thead>\n",
       "  <tbody>\n",
       "    <tr>\n",
       "      <th>12</th>\n",
       "      <td>val/13.jpg</td>\n",
       "      <td>40-49</td>\n",
       "      <td>Female</td>\n",
       "      <td>Indian</td>\n",
       "      <td>True</td>\n",
       "    </tr>\n",
       "    <tr>\n",
       "      <th>13</th>\n",
       "      <td>val/14.jpg</td>\n",
       "      <td>20-29</td>\n",
       "      <td>Male</td>\n",
       "      <td>Indian</td>\n",
       "      <td>True</td>\n",
       "    </tr>\n",
       "    <tr>\n",
       "      <th>30</th>\n",
       "      <td>val/31.jpg</td>\n",
       "      <td>3-9</td>\n",
       "      <td>Female</td>\n",
       "      <td>Indian</td>\n",
       "      <td>True</td>\n",
       "    </tr>\n",
       "    <tr>\n",
       "      <th>31</th>\n",
       "      <td>val/32.jpg</td>\n",
       "      <td>40-49</td>\n",
       "      <td>Female</td>\n",
       "      <td>Indian</td>\n",
       "      <td>False</td>\n",
       "    </tr>\n",
       "    <tr>\n",
       "      <th>39</th>\n",
       "      <td>val/40.jpg</td>\n",
       "      <td>50-59</td>\n",
       "      <td>Female</td>\n",
       "      <td>Indian</td>\n",
       "      <td>False</td>\n",
       "    </tr>\n",
       "    <tr>\n",
       "      <th>41</th>\n",
       "      <td>val/42.jpg</td>\n",
       "      <td>20-29</td>\n",
       "      <td>Female</td>\n",
       "      <td>Indian</td>\n",
       "      <td>False</td>\n",
       "    </tr>\n",
       "    <tr>\n",
       "      <th>69</th>\n",
       "      <td>val/70.jpg</td>\n",
       "      <td>20-29</td>\n",
       "      <td>Male</td>\n",
       "      <td>Indian</td>\n",
       "      <td>True</td>\n",
       "    </tr>\n",
       "    <tr>\n",
       "      <th>73</th>\n",
       "      <td>val/74.jpg</td>\n",
       "      <td>30-39</td>\n",
       "      <td>Female</td>\n",
       "      <td>Indian</td>\n",
       "      <td>False</td>\n",
       "    </tr>\n",
       "    <tr>\n",
       "      <th>75</th>\n",
       "      <td>val/76.jpg</td>\n",
       "      <td>20-29</td>\n",
       "      <td>Male</td>\n",
       "      <td>Indian</td>\n",
       "      <td>True</td>\n",
       "    </tr>\n",
       "    <tr>\n",
       "      <th>90</th>\n",
       "      <td>val/91.jpg</td>\n",
       "      <td>10-19</td>\n",
       "      <td>Female</td>\n",
       "      <td>Indian</td>\n",
       "      <td>True</td>\n",
       "    </tr>\n",
       "    <tr>\n",
       "      <th>92</th>\n",
       "      <td>val/93.jpg</td>\n",
       "      <td>20-29</td>\n",
       "      <td>Female</td>\n",
       "      <td>Indian</td>\n",
       "      <td>True</td>\n",
       "    </tr>\n",
       "    <tr>\n",
       "      <th>96</th>\n",
       "      <td>val/97.jpg</td>\n",
       "      <td>50-59</td>\n",
       "      <td>Female</td>\n",
       "      <td>Indian</td>\n",
       "      <td>True</td>\n",
       "    </tr>\n",
       "    <tr>\n",
       "      <th>103</th>\n",
       "      <td>val/104.jpg</td>\n",
       "      <td>10-19</td>\n",
       "      <td>Male</td>\n",
       "      <td>Indian</td>\n",
       "      <td>True</td>\n",
       "    </tr>\n",
       "    <tr>\n",
       "      <th>108</th>\n",
       "      <td>val/109.jpg</td>\n",
       "      <td>3-9</td>\n",
       "      <td>Male</td>\n",
       "      <td>Indian</td>\n",
       "      <td>True</td>\n",
       "    </tr>\n",
       "    <tr>\n",
       "      <th>109</th>\n",
       "      <td>val/110.jpg</td>\n",
       "      <td>30-39</td>\n",
       "      <td>Male</td>\n",
       "      <td>Indian</td>\n",
       "      <td>True</td>\n",
       "    </tr>\n",
       "  </tbody>\n",
       "</table>\n",
       "</div>"
      ],
      "text/plain": [
       "            file    age  gender    race  service_test\n",
       "12    val/13.jpg  40-49  Female  Indian          True\n",
       "13    val/14.jpg  20-29    Male  Indian          True\n",
       "30    val/31.jpg    3-9  Female  Indian          True\n",
       "31    val/32.jpg  40-49  Female  Indian         False\n",
       "39    val/40.jpg  50-59  Female  Indian         False\n",
       "41    val/42.jpg  20-29  Female  Indian         False\n",
       "69    val/70.jpg  20-29    Male  Indian          True\n",
       "73    val/74.jpg  30-39  Female  Indian         False\n",
       "75    val/76.jpg  20-29    Male  Indian          True\n",
       "90    val/91.jpg  10-19  Female  Indian          True\n",
       "92    val/93.jpg  20-29  Female  Indian          True\n",
       "96    val/97.jpg  50-59  Female  Indian          True\n",
       "103  val/104.jpg  10-19    Male  Indian          True\n",
       "108  val/109.jpg    3-9    Male  Indian          True\n",
       "109  val/110.jpg  30-39    Male  Indian          True"
      ]
     },
     "execution_count": 104,
     "metadata": {},
     "output_type": "execute_result"
    }
   ],
   "source": [
    "val_df[val_df[\"race\"] == \"Indian\"][:15]"
   ]
  },
  {
   "cell_type": "code",
   "execution_count": 11,
   "metadata": {},
   "outputs": [
    {
     "data": {
      "text/plain": [
       "White              2085\n",
       "Latino_Hispanic    1623\n",
       "Black              1556\n",
       "East Asian         1550\n",
       "Indian             1516\n",
       "Southeast Asian    1415\n",
       "Middle Eastern     1209\n",
       "Name: race, dtype: int64"
      ]
     },
     "execution_count": 11,
     "metadata": {},
     "output_type": "execute_result"
    }
   ],
   "source": [
    "val_df['race'].value_counts()"
   ]
  },
  {
   "cell_type": "code",
   "execution_count": 15,
   "metadata": {},
   "outputs": [],
   "source": [
    "def race_prediction(preprocessed_input):\n",
    "    pred2 = race_model.predict(preprocessed_input)[0]\n",
    "    race_dict = {\n",
    "        6: 'White', \n",
    "        0: 'Black', \n",
    "        1: 'East Asian', \n",
    "        2: 'Indian', \n",
    "        4: 'Middle Eastern',\n",
    "        3: 'Latino_Hispanic',\n",
    "        5: 'Southeast Asian'\n",
    "    }\n",
    "    max_ind = list(pred2).index(max(pred2))\n",
    "    return race_dict[max_ind]"
   ]
  },
  {
   "cell_type": "code",
   "execution_count": 11,
   "metadata": {},
   "outputs": [],
   "source": [
    "#generate average heatmap for a specific race\n",
    "from tqdm import tqdm\n",
    "def generate_avg_heatmap(race, val_df):\n",
    "    race_val_df = val_df[val_df[\"race\"] == race][:20]\n",
    "    heatmaps = []\n",
    "    for row in tqdm(race_val_df.iterrows()):\n",
    "        img_file = row[1][\"file\"]\n",
    "        img_path = \"../../a01capstonegroup03/fairface_pad025/\" + img_file\n",
    "        \n",
    "#         orig = cv2.imread(img_path)\n",
    "        #print(img_path)\n",
    "        #resized = cv2.resize(orig, (224, 224))\n",
    "        \n",
    "        preprocessed_input = load_image(img_path)\n",
    "        predictions = race_model.predict(preprocessed_input)\n",
    "        predicted_class = np.argmax(predictions[0])\n",
    "        \n",
    "        cam, heatmap, img = grad_cam(race_model, preprocessed_input, predicted_class, \"conv2d_7\")\n",
    "        #cv2.imwrite(\"gradcam_1234.jpg\", cam)\n",
    "#         cam = GradCAM(race_model, predicted_class)\n",
    "#         heatmap = cam.compute_heatmap(img_face)\n",
    "        \n",
    "#         resized = cv2.resize(orig, (198, 198))\n",
    "#         heatmap = cv2.resize(heatmap, (orig.shape[1], orig.shape[0]))\n",
    "#         (heatmap, output) = cam.overlay_heatmap(heatmap, orig, alpha=0.5)\n",
    "    \n",
    "        heatmaps.append(heatmap)\n",
    "        \n",
    "    \n",
    "    arr= np.zeros((224,224, 3),np.float)\n",
    "    N = len(heatmaps)\n",
    "    for im in heatmaps:\n",
    "        imarr=np.array(im,dtype=np.float)\n",
    "#         print(arr.shape)\n",
    "#         print(imarr.shape)\n",
    "        \n",
    "        arr=arr+imarr/N\n",
    "\n",
    "    # Round values in array and cast as 8-bit integer\n",
    "    arr=np.array(np.round(arr),dtype=np.uint8)\n",
    "    cv2.imwrite(\"race20_\"+ race + \"_heatmap.jpg\", arr)\n",
    "        "
   ]
  },
  {
   "cell_type": "code",
   "execution_count": 10,
   "metadata": {},
   "outputs": [
    {
     "name": "stderr",
     "output_type": "stream",
     "text": [
      "100it [35:23, 21.24s/it]\n"
     ]
    }
   ],
   "source": [
    "generate_avg_heatmap(\"White\", val_df) #100 "
   ]
  },
  {
   "cell_type": "code",
   "execution_count": 13,
   "metadata": {},
   "outputs": [
    {
     "name": "stderr",
     "output_type": "stream",
     "text": [
      "50it [44:44, 53.70s/it]\n"
     ]
    }
   ],
   "source": [
    "generate_avg_heatmap(\"Black\", val_df)"
   ]
  },
  {
   "cell_type": "code",
   "execution_count": null,
   "metadata": {},
   "outputs": [],
   "source": []
  },
  {
   "cell_type": "code",
   "execution_count": 12,
   "metadata": {},
   "outputs": [
    {
     "name": "stderr",
     "output_type": "stream",
     "text": [
      "20it [02:27,  7.36s/it]\n"
     ]
    }
   ],
   "source": [
    "generate_avg_heatmap(\"Indian\", val_df)"
   ]
  },
  {
   "cell_type": "code",
   "execution_count": null,
   "metadata": {},
   "outputs": [],
   "source": []
  }
 ],
 "metadata": {
  "kernelspec": {
   "display_name": "Python 3",
   "language": "python",
   "name": "python3"
  },
  "language_info": {
   "codemirror_mode": {
    "name": "ipython",
    "version": 3
   },
   "file_extension": ".py",
   "mimetype": "text/x-python",
   "name": "python",
   "nbconvert_exporter": "python",
   "pygments_lexer": "ipython3",
   "version": "3.8.6"
  }
 },
 "nbformat": 4,
 "nbformat_minor": 4
}
