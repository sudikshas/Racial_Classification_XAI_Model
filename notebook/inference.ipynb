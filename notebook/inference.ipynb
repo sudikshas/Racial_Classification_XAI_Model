{
 "cells": [
  {
   "cell_type": "code",
   "execution_count": 1,
   "metadata": {},
   "outputs": [],
   "source": [
    "import sys\n",
    "sys.path.append(\"../src\")\n",
    "import tensorflow as tf\n",
    "from tensorflow.keras.models import Model\n",
    "from tensorflow.keras.layers import Input, Dense, BatchNormalization, Conv2D, MaxPooling2D, Flatten\n",
    "from tensorflow.keras.layers import Activation, Dropout, Lambda, Dense\n",
    "from tensorflow.keras import Sequential\n",
    "import os\n",
    "import pandas as pd\n",
    "from util import *\n",
    "from model import *\n",
    "import json"
   ]
  },
  {
   "cell_type": "code",
   "execution_count": 2,
   "metadata": {},
   "outputs": [],
   "source": [
    "with open(\"../config/age_parameters.json\") as param:\n",
    "    parameters = json.load(param)[\"load_data\"]\n",
    "param.close()\n",
    "\n",
    "train_label = parameters[\"train_label_path\"]\n",
    "train_image = parameters[\"train_image_path\"]\n",
    "resize = parameters[\"resize\"]\n",
    "TRAIN_TEST_SPLIT = parameters[\"TRAIN_TEST_SPLIT\"]\n"
   ]
  },
  {
   "cell_type": "code",
   "execution_count": 3,
   "metadata": {},
   "outputs": [],
   "source": [
    "data_generator = make_generator(train_label, train_image, resize, TRAIN_TEST_SPLIT)\n",
    "train_idx, valid_idx, test_idx = data_generator.generate_split_indexes()"
   ]
  },
  {
   "cell_type": "code",
   "execution_count": null,
   "metadata": {},
   "outputs": [
    {
     "name": "stdout",
     "output_type": "stream",
     "text": [
      "WARNING:tensorflow:From /opt/conda/lib/python3.7/site-packages/tensorflow_core/python/ops/resource_variable_ops.py:1630: calling BaseResourceVariable.__init__ (from tensorflow.python.ops.resource_variable_ops) with constraint is deprecated and will be removed in a future version.\n",
      "Instructions for updating:\n",
      "If using Keras pass *_constraint arguments to layers.\n"
     ]
    }
   ],
   "source": [
    "test_batch_size = 128\n",
    "model = OutputModel().assemble_full_model(resize, resize)\n",
    "model.load_weights(\"../models/age_model_1/cp-0037.ckpt\")"
   ]
  },
  {
   "cell_type": "code",
   "execution_count": null,
   "metadata": {},
   "outputs": [],
   "source": [
    "test_generator = data_generator.generate_images(test_idx, is_training=False, batch_size=test_batch_size)\n",
    "age_pred = model.predict_generator(test_generator, steps=len(test_idx)//test_batch_size)"
   ]
  },
  {
   "cell_type": "code",
   "execution_count": 23,
   "metadata": {},
   "outputs": [],
   "source": [
    "test_generator = data_generator.generate_images(test_idx, is_training=False, batch_size=test_batch_size)\n",
    "samples = 0\n",
    "images, age_true = [], []\n",
    "for test_batch in test_generator:\n",
    "    image = test_batch[0]\n",
    "    labels = test_batch[1]\n",
    "    images.extend(image)\n",
    "    age_true.extend(labels[0])\n",
    "\n",
    "age_true = np.array(age_true)\n",
    "\n",
    "\n",
    "age_true, age_pred = age_true.argmax(axis=-1), age_pred.argmax(axis=-1)"
   ]
  },
  {
   "cell_type": "code",
   "execution_count": 27,
   "metadata": {},
   "outputs": [
    {
     "data": {
      "text/plain": [
       "0.5142010467980296"
      ]
     },
     "execution_count": 27,
     "metadata": {},
     "output_type": "execute_result"
    }
   ],
   "source": [
    "(age_true == age_pred).mean()"
   ]
  },
  {
   "cell_type": "code",
   "execution_count": 29,
   "metadata": {},
   "outputs": [
    {
     "name": "stdout",
     "output_type": "stream",
     "text": [
      "              precision    recall  f1-score   support\n",
      "\n",
      "         0-2       0.60      0.44      0.51       562\n",
      "         3-9       0.67      0.80      0.73      3110\n",
      "       10-19       0.56      0.24      0.33      2727\n",
      "       20-29       0.51      0.76      0.61      7614\n",
      "       30-39       0.45      0.36      0.40      5848\n",
      "       40-49       0.43      0.29      0.34      3200\n",
      "       50-59       0.43      0.48      0.45      1861\n",
      "       60-69       0.44      0.24      0.31       817\n",
      "more than 70       0.65      0.26      0.37       245\n",
      "\n",
      "    accuracy                           0.51     25984\n",
      "   macro avg       0.53      0.43      0.45     25984\n",
      "weighted avg       0.51      0.51      0.49     25984\n",
      "\n"
     ]
    }
   ],
   "source": [
    "from sklearn.metrics import classification_report\n",
    "\n",
    "cr_race = classification_report(age_true, age_pred, target_names=data_generator.dataset_dict['age_alias'].keys())\n",
    "print(cr_race)"
   ]
  },
  {
   "cell_type": "code",
   "execution_count": null,
   "metadata": {},
   "outputs": [],
   "source": []
  }
 ],
 "metadata": {
  "kernelspec": {
   "display_name": "Python 3",
   "language": "python",
   "name": "python3"
  },
  "language_info": {
   "codemirror_mode": {
    "name": "ipython",
    "version": 3
   },
   "file_extension": ".py",
   "mimetype": "text/x-python",
   "name": "python",
   "nbconvert_exporter": "python",
   "pygments_lexer": "ipython3",
   "version": "3.8.6"
  }
 },
 "nbformat": 4,
 "nbformat_minor": 4
}
