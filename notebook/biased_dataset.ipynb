{
 "cells": [
  {
   "cell_type": "code",
   "execution_count": 1,
   "metadata": {},
   "outputs": [],
   "source": [
    "import numpy as np\n",
    "import os\n",
    "import pandas as pd"
   ]
  },
  {
   "cell_type": "code",
   "execution_count": 9,
   "metadata": {},
   "outputs": [],
   "source": [
    "data_path = \"/teams/DSC180A_FA20_A00/a01explainableai/a01capstonegroup03/fairface_label_train.csv\""
   ]
  },
  {
   "cell_type": "code",
   "execution_count": 50,
   "metadata": {},
   "outputs": [],
   "source": [
    "\"\"\"\"\n",
    "Population stats manually added based on 2020 US Census. \n",
    "The Asian populations are estimated based on 2016 population data.\n",
    "\"\"\"\n",
    "\n",
    "df = pd.read_csv(data_path)\n",
    "races = df[\"race\"].unique()\n",
    "population = {\"White\": 0.601, \n",
    "             \"Black\": 0.134,\n",
    "             \"Latino_Hispanic\": 0.185,\n",
    "             \"East Asian\": 0.022,\n",
    "             \"Southeast Asian\": 0.022,\n",
    "             \"Indian\": 0.012,\n",
    "              \"Middle Eastern\": 0.024\n",
    "             }\n",
    "\n",
    "total = int(len(df.loc[df.race == 'White'])/population['White'])\n",
    "\n",
    "biased_df = pd.DataFrame()\n",
    "for race in races:\n",
    "    num_rows = int(total*population[race])#int((df[\"race\"]==race).sum() * population[race])#\n",
    "    # Randomly sample rows based on population\n",
    "    single_race = df.loc[df.race == race].sample(num_rows)\n",
    "    if biased_df.empty:\n",
    "        biased_df = single_race\n",
    "    else:\n",
    "        biased_df = pd.concat([biased_df, single_race])\n",
    "biased_df = biased_df.sample(frac=1).reset_index(drop=True)"
   ]
  },
  {
   "cell_type": "code",
   "execution_count": 52,
   "metadata": {},
   "outputs": [],
   "source": [
    "biased_df.to_csv(\"/teams/DSC180A_FA20_A00/a01explainableai/a01capstonegroup03/biased_race.csv\", index = False)"
   ]
  },
  {
   "cell_type": "code",
   "execution_count": 53,
   "metadata": {},
   "outputs": [
    {
     "data": {
      "text/plain": [
       "['fairface_pad125',\n",
       " 'fairface_label_val.csv',\n",
       " 'fairface_pad025',\n",
       " 'biased_race.csv',\n",
       " 'fairface_label_train.csv']"
      ]
     },
     "execution_count": 53,
     "metadata": {},
     "output_type": "execute_result"
    }
   ],
   "source": [
    "os.listdir(\"/teams/DSC180A_FA20_A00/a01explainableai/a01capstonegroup03/\")"
   ]
  },
  {
   "cell_type": "code",
   "execution_count": 54,
   "metadata": {},
   "outputs": [
    {
     "data": {
      "text/html": [
       "<div>\n",
       "<style scoped>\n",
       "    .dataframe tbody tr th:only-of-type {\n",
       "        vertical-align: middle;\n",
       "    }\n",
       "\n",
       "    .dataframe tbody tr th {\n",
       "        vertical-align: top;\n",
       "    }\n",
       "\n",
       "    .dataframe thead th {\n",
       "        text-align: right;\n",
       "    }\n",
       "</style>\n",
       "<table border=\"1\" class=\"dataframe\">\n",
       "  <thead>\n",
       "    <tr style=\"text-align: right;\">\n",
       "      <th></th>\n",
       "      <th>file</th>\n",
       "      <th>age</th>\n",
       "      <th>gender</th>\n",
       "      <th>race</th>\n",
       "      <th>service_test</th>\n",
       "    </tr>\n",
       "  </thead>\n",
       "  <tbody>\n",
       "    <tr>\n",
       "      <th>0</th>\n",
       "      <td>train/12173.jpg</td>\n",
       "      <td>10-19</td>\n",
       "      <td>Female</td>\n",
       "      <td>White</td>\n",
       "      <td>False</td>\n",
       "    </tr>\n",
       "    <tr>\n",
       "      <th>1</th>\n",
       "      <td>train/76810.jpg</td>\n",
       "      <td>3-9</td>\n",
       "      <td>Female</td>\n",
       "      <td>Latino_Hispanic</td>\n",
       "      <td>False</td>\n",
       "    </tr>\n",
       "    <tr>\n",
       "      <th>2</th>\n",
       "      <td>train/10886.jpg</td>\n",
       "      <td>20-29</td>\n",
       "      <td>Male</td>\n",
       "      <td>Latino_Hispanic</td>\n",
       "      <td>True</td>\n",
       "    </tr>\n",
       "    <tr>\n",
       "      <th>3</th>\n",
       "      <td>train/5779.jpg</td>\n",
       "      <td>40-49</td>\n",
       "      <td>Female</td>\n",
       "      <td>Latino_Hispanic</td>\n",
       "      <td>False</td>\n",
       "    </tr>\n",
       "    <tr>\n",
       "      <th>4</th>\n",
       "      <td>train/3622.jpg</td>\n",
       "      <td>20-29</td>\n",
       "      <td>Female</td>\n",
       "      <td>Latino_Hispanic</td>\n",
       "      <td>False</td>\n",
       "    </tr>\n",
       "    <tr>\n",
       "      <th>...</th>\n",
       "      <td>...</td>\n",
       "      <td>...</td>\n",
       "      <td>...</td>\n",
       "      <td>...</td>\n",
       "      <td>...</td>\n",
       "    </tr>\n",
       "    <tr>\n",
       "      <th>27488</th>\n",
       "      <td>train/43359.jpg</td>\n",
       "      <td>40-49</td>\n",
       "      <td>Male</td>\n",
       "      <td>White</td>\n",
       "      <td>True</td>\n",
       "    </tr>\n",
       "    <tr>\n",
       "      <th>27489</th>\n",
       "      <td>train/50470.jpg</td>\n",
       "      <td>20-29</td>\n",
       "      <td>Female</td>\n",
       "      <td>White</td>\n",
       "      <td>False</td>\n",
       "    </tr>\n",
       "    <tr>\n",
       "      <th>27490</th>\n",
       "      <td>train/82290.jpg</td>\n",
       "      <td>30-39</td>\n",
       "      <td>Male</td>\n",
       "      <td>Latino_Hispanic</td>\n",
       "      <td>True</td>\n",
       "    </tr>\n",
       "    <tr>\n",
       "      <th>27491</th>\n",
       "      <td>train/56099.jpg</td>\n",
       "      <td>20-29</td>\n",
       "      <td>Female</td>\n",
       "      <td>White</td>\n",
       "      <td>True</td>\n",
       "    </tr>\n",
       "    <tr>\n",
       "      <th>27492</th>\n",
       "      <td>train/59454.jpg</td>\n",
       "      <td>30-39</td>\n",
       "      <td>Female</td>\n",
       "      <td>White</td>\n",
       "      <td>True</td>\n",
       "    </tr>\n",
       "  </tbody>\n",
       "</table>\n",
       "<p>27493 rows × 5 columns</p>\n",
       "</div>"
      ],
      "text/plain": [
       "                  file    age  gender             race  service_test\n",
       "0      train/12173.jpg  10-19  Female            White         False\n",
       "1      train/76810.jpg    3-9  Female  Latino_Hispanic         False\n",
       "2      train/10886.jpg  20-29    Male  Latino_Hispanic          True\n",
       "3       train/5779.jpg  40-49  Female  Latino_Hispanic         False\n",
       "4       train/3622.jpg  20-29  Female  Latino_Hispanic         False\n",
       "...                ...    ...     ...              ...           ...\n",
       "27488  train/43359.jpg  40-49    Male            White          True\n",
       "27489  train/50470.jpg  20-29  Female            White         False\n",
       "27490  train/82290.jpg  30-39    Male  Latino_Hispanic          True\n",
       "27491  train/56099.jpg  20-29  Female            White          True\n",
       "27492  train/59454.jpg  30-39  Female            White          True\n",
       "\n",
       "[27493 rows x 5 columns]"
      ]
     },
     "execution_count": 54,
     "metadata": {},
     "output_type": "execute_result"
    }
   ],
   "source": [
    "pd.read_csv(\"/teams/DSC180A_FA20_A00/a01explainableai/a01capstonegroup03/biased_race.csv\")"
   ]
  },
  {
   "cell_type": "code",
   "execution_count": null,
   "metadata": {},
   "outputs": [],
   "source": []
  }
 ],
 "metadata": {
  "kernelspec": {
   "display_name": "Python 3",
   "language": "python",
   "name": "python3"
  },
  "language_info": {
   "codemirror_mode": {
    "name": "ipython",
    "version": 3
   },
   "file_extension": ".py",
   "mimetype": "text/x-python",
   "name": "python",
   "nbconvert_exporter": "python",
   "pygments_lexer": "ipython3",
   "version": "3.8.6"
  }
 },
 "nbformat": 4,
 "nbformat_minor": 4
}
