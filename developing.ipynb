{
 "cells": [
  {
   "cell_type": "code",
   "execution_count": 2,
   "metadata": {},
   "outputs": [],
   "source": [
    "import sys\n",
    "sys.path.append(\"./src\")\n",
    "import pandas as pd\n",
    "import os\n",
    "import matplotlib.pyplot as plt\n",
    "from IntegratedGradients import *\n",
    "from model import *\n",
    "import json\n",
    "from tensorflow import keras\n",
    "from util import *"
   ]
  },
  {
   "cell_type": "code",
   "execution_count": 3,
   "metadata": {},
   "outputs": [
    {
     "name": "stdout",
     "output_type": "stream",
     "text": [
      "WARNING:tensorflow:From /opt/conda/lib/python3.7/site-packages/tensorflow_core/python/ops/resource_variable_ops.py:1630: calling BaseResourceVariable.__init__ (from tensorflow.python.ops.resource_variable_ops) with constraint is deprecated and will be removed in a future version.\n",
      "Instructions for updating:\n",
      "If using Keras pass *_constraint arguments to layers.\n",
      "WARNING:tensorflow:From /opt/conda/lib/python3.7/site-packages/tensorflow_core/python/ops/math_grad.py:1424: where (from tensorflow.python.ops.array_ops) is deprecated and will be removed in a future version.\n",
      "Instructions for updating:\n",
      "Use tf.where in 2.0, which has the same broadcast rule as np.where\n"
     ]
    }
   ],
   "source": [
    "with open(\"./config/age_parameters.json\") as param:\n",
    "    parameters = json.load(param)[\"load_data\"]\n",
    "param.close()\n",
    "\n",
    "train_label = parameters[\"train_label_path\"]\n",
    "train_image = parameters[\"train_image_path\"]\n",
    "resize = parameters[\"resize\"]\n",
    "TRAIN_TEST_SPLIT = parameters[\"TRAIN_TEST_SPLIT\"]\n",
    "\n",
    "#model = OutputModel().assemble_full_model(resize, resize)\n",
    "#model.load_model(\"../models/age_model_2/cp-0092.hdf5.ckpt\")\n",
    "model = keras.models.load_model(\"./models/age_model_2/cp-0092.hdf5\")"
   ]
  },
  {
   "cell_type": "code",
   "execution_count": 8,
   "metadata": {},
   "outputs": [
    {
     "data": {
      "text/plain": [
       "9"
      ]
     },
     "execution_count": 8,
     "metadata": {},
     "output_type": "execute_result"
    }
   ],
   "source": [
    "model.output.shape[1]._value"
   ]
  },
  {
   "cell_type": "code",
   "execution_count": 4,
   "metadata": {},
   "outputs": [
    {
     "name": "stdout",
     "output_type": "stream",
     "text": [
      "Evaluated output channel (0-based index): All\n",
      "Building gradient functions\n",
      "Progress: 100.0%\n",
      "Done.\n"
     ]
    }
   ],
   "source": [
    "#from IntegratedGradients import *\n",
    "#model_param_path = \"./models/age_model_2/cp-0092.hdf5\"\n",
    "ig = integrated_gradients(model)"
   ]
  },
  {
   "cell_type": "code",
   "execution_count": null,
   "metadata": {},
   "outputs": [],
   "source": [
    "integrated_grad_pic(model_param_path, train_image, train_label, 2)"
   ]
  },
  {
   "cell_type": "code",
   "execution_count": null,
   "metadata": {},
   "outputs": [],
   "source": [
    "def integrated_grad_pic(model_param_path, train_image_path, train_label_path, img_idx):\n",
    "    model = keras.models.load_model(model_param_path)\n",
    "    ig = integrated_gradients(model)\n",
    "    \n",
    "    dataset_dict = {\n",
    "        'age_id': {\n",
    "            0: '0-2', \n",
    "            1: '3-9', \n",
    "            2: '10-19', \n",
    "            3: '20-29', \n",
    "            4: '30-39',\n",
    "            5: '40-49',\n",
    "            6: '50-59',\n",
    "            7: '60-69',\n",
    "            8: \"more than 70\"\n",
    "        }\n",
    "    }\n",
    "    img_name = \"{}.jpg\".format(img_idx)\n",
    "    sample_path = os.path.join(train_image_path, img_name)\n",
    "    sample_label_df = pd.read_csv(train_label_path)\n",
    "    sample_label = sample_label_df[sample_label_df[\"file\"].str.contains(img_name)][\"age\"].values[0]\n",
    "    \n",
    "    sample_image = preprocess_image(sample_path, resize, resize).reshape(1, 198, 198, 3)\n",
    "    \n",
    "    # Plot the true image.\n",
    "    plt.figure(figsize = (5, 5))\n",
    "    plt.imshow(sample_image.squeeze(), cmap=\"Greys\")\n",
    "    plt.xticks([],[])\n",
    "    plt.yticks([],[])\n",
    "    plt.title(\"Original image\", fontsize=8)\n",
    "    plt.savefig(\"./pictures/\"+\"Original_\" + str(img_idx)+\".png\")\n",
    "\n",
    "    # Generate explanation with respect to each of 10 output channels.\n",
    "    exs = []\n",
    "    output_prob = model.predict(sample_image).squeeze()\n",
    "    for i in range(1,10):\n",
    "        exs.append(ig.explain(sample_image.squeeze(), outc=i-1))\n",
    "    exs = np.array(exs)\n",
    "\n",
    "    # Plot them\n",
    "    th = max(np.abs(np.min(exs)), np.abs(np.max(exs)))\n",
    "\n",
    "\n",
    "    fig = plt.subplots(3,3,figsize=(15,15))\n",
    "    for i in range(9):\n",
    "        ex = exs[i]\n",
    "        plt.subplot(3,3,i+1)\n",
    "        plt.imshow(ex[:,:,0], cmap=\"seismic\", vmin=-1*th, vmax=th)\n",
    "        plt.xticks([],[])\n",
    "        plt.yticks([],[])\n",
    "        plt.title(\"heatmap for age range {} with probability {:.2f}\".format(dataset_dict[\"age_id\"][i],output_prob[i]), \n",
    "                  fontsize=10)\n",
    "    plt.tight_layout()\n",
    "    plt.savefig(\"./pictures/\"+\"integrated-viz_\" + str(img_idx)+\".png\")\n",
    "    plt.show()\n",
    "    print(\"Ground Truth:\", sample_label)\n",
    "    print(\"Predicted:\", dataset_dict[\"age_id\"][np.argmax(output_prob)])\n",
    "    \n",
    "    \n",
    "    "
   ]
  }
 ],
 "metadata": {
  "kernelspec": {
   "display_name": "Python 3",
   "language": "python",
   "name": "python3"
  },
  "language_info": {
   "codemirror_mode": {
    "name": "ipython",
    "version": 3
   },
   "file_extension": ".py",
   "mimetype": "text/x-python",
   "name": "python",
   "nbconvert_exporter": "python",
   "pygments_lexer": "ipython3",
   "version": "3.8.6"
  }
 },
 "nbformat": 4,
 "nbformat_minor": 4
}
