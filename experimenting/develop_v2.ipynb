{
 "cells": [
  {
   "cell_type": "code",
   "execution_count": 1,
   "metadata": {},
   "outputs": [],
   "source": [
    "import os\n",
    "import numpy as np\n",
    "import sys\n",
    "sys.path.append(\"./src\")\n",
    "from IntegratedGradients import *\n",
    "import json\n",
    "from tensorflow.keras.applications import resnet_v2\n",
    "import matplotlib.pyplot as plt\n",
    "from PIL import Image\n",
    "from tensorflow import keras\n",
    "import seaborn as sns\n",
    "import pandas as pd\n",
    "import io\n",
    "from util import *\n"
   ]
  },
  {
   "cell_type": "code",
   "execution_count": 4,
   "metadata": {},
   "outputs": [],
   "source": [
    "image_path_1 = os.path.join(image_path, \"2583.jpg\")\n",
    "result_df_path = \"./visualization/race/stats/result_df.csv\""
   ]
  },
  {
   "cell_type": "code",
   "execution_count": 5,
   "metadata": {},
   "outputs": [
    {
     "data": {
      "text/plain": [
       "'./mapping/race.json'"
      ]
     },
     "execution_count": 5,
     "metadata": {},
     "output_type": "execute_result"
    }
   ],
   "source": [
    "mapping"
   ]
  },
  {
   "cell_type": "code",
   "execution_count": null,
   "metadata": {},
   "outputs": [
    {
     "name": "stdout",
     "output_type": "stream",
     "text": [
      "WARNING:tensorflow:From /opt/conda/lib/python3.8/site-packages/tensorflow/python/ops/resource_variable_ops.py:1659: calling BaseResourceVariable.__init__ (from tensorflow.python.ops.resource_variable_ops) with constraint is deprecated and will be removed in a future version.\n",
      "Instructions for updating:\n",
      "If using Keras pass *_constraint arguments to layers.\n"
     ]
    }
   ],
   "source": [
    "a,b,c = get_prediction(image_path_1, model_param_path, mapping, result_df_path)"
   ]
  },
  {
   "cell_type": "code",
   "execution_count": null,
   "metadata": {},
   "outputs": [],
   "source": []
  },
  {
   "cell_type": "code",
   "execution_count": null,
   "metadata": {},
   "outputs": [],
   "source": [
    "a = pd.read_csv(\"./visualization/race/stats/result_df.csv\")"
   ]
  },
  {
   "cell_type": "code",
   "execution_count": null,
   "metadata": {},
   "outputs": [],
   "source": [
    "a[a[\"category\"] == \"Black\"][\"accuracy\"].values[0].round(2)"
   ]
  },
  {
   "cell_type": "code",
   "execution_count": null,
   "metadata": {},
   "outputs": [],
   "source": [
    "import io"
   ]
  },
  {
   "cell_type": "code",
   "execution_count": 2,
   "metadata": {},
   "outputs": [],
   "source": [
    "with open(\"./config/parameters.json\") as f:\n",
    "    data = json.load(f)\n",
    "    ig_param = data[\"integrated_grad\"]\n",
    "f.close()"
   ]
  },
  {
   "cell_type": "code",
   "execution_count": 3,
   "metadata": {},
   "outputs": [],
   "source": [
    "model_param_path, image_path, label_path, save_path, target, mapping, size, img_idx_lst = ig_param.values()"
   ]
  },
  {
   "cell_type": "code",
   "execution_count": null,
   "metadata": {},
   "outputs": [],
   "source": [
    "fig = plt.gcf()\n",
    "a = pd.read_csv(label_path)"
   ]
  },
  {
   "cell_type": "code",
   "execution_count": null,
   "metadata": {},
   "outputs": [],
   "source": [
    "fig.show()"
   ]
  },
  {
   "cell_type": "code",
   "execution_count": null,
   "metadata": {},
   "outputs": [],
   "source": [
    "ax = plt.gca()"
   ]
  },
  {
   "cell_type": "code",
   "execution_count": null,
   "metadata": {
    "scrolled": true
   },
   "outputs": [],
   "source": [
    "plt.plot(a[\"gender\"])"
   ]
  },
  {
   "cell_type": "code",
   "execution_count": null,
   "metadata": {},
   "outputs": [],
   "source": [
    "os.listdir(image_path)"
   ]
  },
  {
   "cell_type": "code",
   "execution_count": null,
   "metadata": {},
   "outputs": [],
   "source": [
    "def fig2img(fig):\n",
    "    \"\"\"Convert a Matplotlib figure to a PIL Image and return it\"\"\"\n",
    "    buf = io.BytesIO()\n",
    "    fig.savefig(buf)\n",
    "    buf.seek(0)\n",
    "    img = Image.open(buf)\n",
    "    return img"
   ]
  },
  {
   "cell_type": "code",
   "execution_count": null,
   "metadata": {},
   "outputs": [],
   "source": [
    "x = np.arange(-3,3)\n",
    "plt.plot(x)\n",
    "fig = plt.gcf()\n",
    "\n",
    "img = fig2img(fig)"
   ]
  },
  {
   "cell_type": "code",
   "execution_count": null,
   "metadata": {},
   "outputs": [],
   "source": [
    "type(img)"
   ]
  },
  {
   "cell_type": "code",
   "execution_count": null,
   "metadata": {},
   "outputs": [],
   "source": [
    "def integrated_grad_pic(model_param_path,mapping, target, image_path):\n",
    "    \n",
    "    model = keras.models.load_model(model_param_path)\n",
    "    ig = integrated_gradients(model)\n",
    "    \n",
    "    with open(mapping) as f:\n",
    "        mapping_dict = json.load(f)\n",
    "    f.close()\n",
    "    \n",
    "    mapping_dict = {val:key for key, val in mapping_dict.items()}\n",
    "    \n",
    "    max_iter_range = len(mapping_dict)\n",
    "    if target == \"age\" or target == \"race\":\n",
    "        subplot_row = 3\n",
    "        subplot_col = 3\n",
    "    else:\n",
    "        subplot_row = 1\n",
    "        subplot_col = 2\n",
    "    \n",
    "    \n",
    "    processed_image = resnet_v2.preprocess_input(plt.imread(image_path)).reshape(-1, size, size, 3)\n",
    "\n",
    "    exs = []\n",
    "    output_prob = model.predict(processed_image).squeeze()\n",
    "    for i in range(1, max_iter_range + 1):\n",
    "        exs.append(ig.explain(processed_image.squeeze(), outc=i-1))\n",
    "    exs = np.array(exs)\n",
    "\n",
    "    # Plot them\n",
    "    th = max(np.abs(np.min(exs)), np.abs(np.max(exs)))\n",
    "\n",
    "    fig = plt.subplots(subplot_row, subplot_col,figsize=(15,15))\n",
    "    for i in range(max_iter_range):\n",
    "        ex = exs[i]\n",
    "        plt.subplot(subplot_row,subplot_col,i+1)\n",
    "        plt.imshow(ex[:,:,0], cmap=\"seismic\", vmin=-1*th, vmax=th)\n",
    "        plt.xticks([],[])\n",
    "        plt.yticks([],[])\n",
    "        plt.title(\"heatmap for {} {} with probability {:.2f}\".format(target, mapping_dict[i],output_prob[i]), \n",
    "                  fontsize=10)\n",
    "    plt.tight_layout()\n",
    "    fig = plt.gcf()\n",
    "    plt.close()\n",
    "    img = fig2img(fig)\n",
    "    return img\n",
    "             "
   ]
  },
  {
   "cell_type": "code",
   "execution_count": null,
   "metadata": {},
   "outputs": [],
   "source": [
    "a = integrated_grad_pic(model_param_path,mapping, target, image_path_1)"
   ]
  },
  {
   "cell_type": "code",
   "execution_count": null,
   "metadata": {},
   "outputs": [],
   "source": [
    "type(a)"
   ]
  },
  {
   "cell_type": "code",
   "execution_count": null,
   "metadata": {},
   "outputs": [],
   "source": []
  },
  {
   "cell_type": "code",
   "execution_count": null,
   "metadata": {},
   "outputs": [],
   "source": [
    "image_path_1 = os.path.join(os.path.join(image_path, \"2583.jpg\"))\n"
   ]
  },
  {
   "cell_type": "code",
   "execution_count": null,
   "metadata": {},
   "outputs": [],
   "source": [
    "mapping"
   ]
  },
  {
   "cell_type": "code",
   "execution_count": null,
   "metadata": {},
   "outputs": [],
   "source": [
    "model = keras.models.load_model(model_param_path)\n",
    "ig = integrated_gradients(model)"
   ]
  },
  {
   "cell_type": "code",
   "execution_count": null,
   "metadata": {},
   "outputs": [],
   "source": [
    "with open(mapping) as f:\n",
    "    mapping_dict = json.load(f)\n",
    "f.close()\n",
    "\n",
    "mapping_dict = {val:key for key, val in mapping_dict.items()}\n",
    "\n",
    "max_iter_range = len(mapping_dict)\n",
    "if target == \"age\" or target == \"race\":\n",
    "    subplot_row = 3\n",
    "    subplot_col = 3\n",
    "else:\n",
    "    subplot_row = 1\n",
    "    subplot_col = 2\n",
    "\n",
    "sample_image = Image.open(image_path_1)\n",
    "processed_image = resnet_v2.preprocess_input(plt.imread(image_path_1)).reshape(-1, size, size, 3)\n",
    "\n",
    "exs = []\n",
    "output_prob = model.predict(processed_image).squeeze()\n",
    "for i in range(1, max_iter_range + 1):\n",
    "    exs.append(ig.explain(processed_image.squeeze(), outc=i-1))\n",
    "exs = np.array(exs)"
   ]
  },
  {
   "cell_type": "code",
   "execution_count": null,
   "metadata": {},
   "outputs": [],
   "source": [
    "processed_image"
   ]
  },
  {
   "cell_type": "code",
   "execution_count": null,
   "metadata": {},
   "outputs": [],
   "source": [
    "processed_image.squeeze().shape"
   ]
  },
  {
   "cell_type": "code",
   "execution_count": null,
   "metadata": {},
   "outputs": [],
   "source": []
  }
 ],
 "metadata": {
  "kernelspec": {
   "display_name": "Python 3",
   "language": "python",
   "name": "python3"
  },
  "language_info": {
   "codemirror_mode": {
    "name": "ipython",
    "version": 3
   },
   "file_extension": ".py",
   "mimetype": "text/x-python",
   "name": "python",
   "nbconvert_exporter": "python",
   "pygments_lexer": "ipython3",
   "version": "3.8.6"
  }
 },
 "nbformat": 4,
 "nbformat_minor": 4
}
