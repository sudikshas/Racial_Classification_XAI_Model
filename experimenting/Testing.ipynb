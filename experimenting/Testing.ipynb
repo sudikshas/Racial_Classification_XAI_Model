{
 "cells": [
  {
   "cell_type": "code",
   "execution_count": 1,
   "metadata": {},
   "outputs": [],
   "source": [
    "from IPython.core.display import HTML\n"
   ]
  },
  {
   "cell_type": "code",
   "execution_count": 8,
   "metadata": {},
   "outputs": [
    {
     "data": {
      "text/html": [
       "<style>\n",
       "    * {\n",
       "      box-sizing: border-box;\n",
       "    }\n",
       "\n",
       "    .row {\n",
       "          display: flex;\n",
       "    }\n",
       "    .column {\n",
       "          flex: 33.33%;\n",
       "          padding: 5px;\n",
       "    }\n",
       "</style>\n"
      ],
      "text/plain": [
       "<IPython.core.display.HTML object>"
      ]
     },
     "metadata": {},
     "output_type": "display_data"
    }
   ],
   "source": [
    "%%html\n",
    "<style>\n",
    "    * {\n",
    "      box-sizing: border-box;\n",
    "    }\n",
    "\n",
    "    .row {\n",
    "          display: flex;\n",
    "    }\n",
    "    .column {\n",
    "          flex: 33.33%;\n",
    "          padding: 5px;\n",
    "    }\n",
    "</style>"
   ]
  },
  {
   "cell_type": "markdown",
   "metadata": {},
   "source": [
    "\n",
    "<body>\n",
    "    <h1>XAI for Race, Age, and Gender</h1>\n",
    "    <p> \n",
    "        The problems that we are investigating focus around how we can detect model bias in a race\n",
    "        classification model. It can be difficult for users to interpret a complex model’s results especially\n",
    "        when it seems to be generating biased or unethical results. Therefore, we want to explore how we\n",
    "        can apply explainable AI techniques to generate visual explanations to interpret the performance\n",
    "        of a race classification model.\n",
    "    </p>\n",
    "    <br>\n",
    "    <img src=\"IMG_3533.jpg\"  width=\"400\" height=\"400\", style=\"float:left\">\n",
    "    <img src=\"IMG_3533.jpg\"  width=\"400\" height=\"400\", style=\"float:right\">\n",
    "</body>"
   ]
  },
  {
   "cell_type": "markdown",
   "metadata": {},
   "source": [
    "<body>\n",
    "    <h1>Dataset</h1>\n",
    "    <p> \n",
    "            Our project uses the <a href = https://github.com/joojs/fairface>FairFace</a> dataset to perform classification and analysis. FairFace supplies\n",
    "        108501 images of faces from an equally distributed pool of seven race categories, two genders,\n",
    "        and eight age groups. In addition to being uniquely comprehensive and applicable to our project,\n",
    "        the size of this dataset allows us to create subsets of the data in order to display biased training\n",
    "        sets. The biased data was generated based on the actual US population as recorded in the 2019\n",
    "        US Census dataset.\n",
    "    </p>\n",
    "    <br>\n",
    "    <img src=\"IMG_3533.jpg\"  width=\"400\" height=\"400\", style=\"float:left\">\n",
    "    <img src=\"IMG_3533.jpg\"  width=\"400\" height=\"400\", style=\"float:right\">\n",
    "</body>"
   ]
  },
  {
   "cell_type": "markdown",
   "metadata": {},
   "source": [
    "<body>\n",
    "    <h1>Model</h1>\n",
    "    <h3>Convolutional Neural Network</h3>\n",
    "    <p> \n",
    "        We used CNN as our model. We applied transfer learning with resnet50 by taking the first 14 layers and fixing         their weights. Then, we concatenated them with our self-defined layers. We preprocessed the training images by \n",
    "        resizing it to 224 x 224 x 3 and applied the resnet_v2 input preprocessing function and adding random\n",
    "        augmentation to our training data.\n",
    "    </p>\n",
    "    <h3>Model Parameters</h3>\n",
    "    <p>\n",
    "        The parameters for training are listed as follows: <b>batch size = 128, learning rate = 0.008,\n",
    "            optimizer = Nadam, loss = categorical cross entropy</b>. The learning rate will iteratively decrease if\n",
    "        the validation loss does not decrease for 10 consecutive epochs. The early stopping would be triggered if the\n",
    "        validation loss does not decrease for 30 consecutive epochs\n",
    "    </p>\n",
    "    \n",
    "</body>"
   ]
  },
  {
   "cell_type": "markdown",
   "metadata": {},
   "source": [
    "<body>\n",
    "    <h1>Statistics</h1>\n",
    "    <h3>Race Model</h3>\n",
    "    <img src=\"./visualization/race/stats/acc_curve.png\"  width=\"33%\" height = \"300\", style=\"float:left\">\n",
    "    <img src=\"./visualization/race/stats/loss_curve.png\"  width=\"33%\" height = \"300\", style=\"float:left\">\n",
    "    <img src=\"./visualization/race/stats/accuracy_barplot.png\"  width=\"33%\" height=\"400\", style=\"float:left\">\n",
    "</body>\n",
    "<body>\n",
    "    <h3>Age Model</h3>\n",
    "    <img src=\"./visualization/race/stats/acc_curve.png\"  width=\"33%\" height = \"300\", style=\"float:left\">\n",
    "    <img src=\"./visualization/race/stats/loss_curve.png\"  width=\"33%\" height = \"300\", style=\"float:left\">\n",
    "    <img src=\"./visualization/race/stats/accuracy_barplot.png\"  width=\"33%\" height=\"400\", style=\"float:left\">\n",
    "</body>"
   ]
  },
  {
   "cell_type": "markdown",
   "metadata": {},
   "source": [
    "<div class=\"row\">\n",
    "  <div class=\"column\">\n",
    "    <img src=\"./visualization/race/stats/acc_curve.png\" alt=\"Snow\" style=\"width:100%\">\n",
    "  </div>\n",
    "  <div class=\"column\">\n",
    "    <img src=\"./visualization/race/stats/acc_curve.png\" alt=\"Forest\" style=\"width:100%\">\n",
    "  </div>\n",
    "  <div class=\"column\">\n",
    "    <img src=\"./visualization/race/stats/acc_curve.png\" alt=\"Mountains\" style=\"width:100%\">\n",
    "  </div>\n",
    "</div>"
   ]
  },
  {
   "cell_type": "code",
   "execution_count": null,
   "metadata": {},
   "outputs": [],
   "source": []
  }
 ],
 "metadata": {
  "kernelspec": {
   "display_name": "Python 3",
   "language": "python",
   "name": "python3"
  },
  "language_info": {
   "codemirror_mode": {
    "name": "ipython",
    "version": 3
   },
   "file_extension": ".py",
   "mimetype": "text/x-python",
   "name": "python",
   "nbconvert_exporter": "python",
   "pygments_lexer": "ipython3",
   "version": "3.8.6"
  }
 },
 "nbformat": 4,
 "nbformat_minor": 4
}
