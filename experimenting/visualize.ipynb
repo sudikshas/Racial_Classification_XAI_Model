{
 "cells": [
  {
   "cell_type": "code",
   "execution_count": 1,
   "metadata": {},
   "outputs": [],
   "source": [
    "import seaborn as sns\n",
    "import matplotlib.pyplot as plt\n",
    "import json\n",
    "import pandas as pd\n",
    "import os\n",
    "from tensorflow import keras\n",
    "import sys\n",
    "sys.path.append(\"./src\")\n",
    "from util import *\n",
    "import tensorflow as tf\n",
    "tf.compat.v1.enable_eager_execution()"
   ]
  },
  {
   "cell_type": "code",
   "execution_count": 2,
   "metadata": {},
   "outputs": [],
   "source": [
    "param_path = \"./config/age_parameters.json\"\n",
    "with open(param_path) as f:\n",
    "    all_info = json.load(f)\n",
    "f.close()\n",
    "\n",
    "model_param = all_info[\"model_param\"]\n",
    "save_path = model_param[\"save_path\"]\n",
    "log_path = model_param[\"log_path\"]"
   ]
  },
  {
   "cell_type": "code",
   "execution_count": null,
   "metadata": {},
   "outputs": [],
   "source": []
  },
  {
   "cell_type": "code",
   "execution_count": null,
   "metadata": {},
   "outputs": [],
   "source": [
    "age_log = pd.read_csv(log_path)"
   ]
  },
  {
   "cell_type": "code",
   "execution_count": null,
   "metadata": {},
   "outputs": [],
   "source": [
    "def generate_curves(log_path, target):\n",
    "    df = pd.read_csv(log_path)\n",
    "    path_to_viz = os.path.join(\"./visualization/training_progress\", target)\n",
    "    acc_name = os.path.join(path_to_viz, \"acc_curve\")\n",
    "    loss_name = os.path.join(path_to_viz, \"loss_curve\")\n",
    "    \n",
    "    ax = plt.gca()\n",
    "    plt.plot(df[\"accuracy\"])\n",
    "    plt.plot(df[\"val_accuracy\"])\n",
    "    plt.title(\"Training Accuracy vs. Validation Accuracy\")\n",
    "    plt.xlabel(\"epochs\")\n",
    "    plt.ylabel(\"Accuracy\")\n",
    "    ax.legend(['Train','Validation'],loc='lower right')\n",
    "    plt.savefig(acc_name)\n",
    "    plt.close()\n",
    "    \n",
    "    ax = plt.gca()\n",
    "    plt.plot(df[\"loss\"])\n",
    "    plt.plot(df[\"val_loss\"])\n",
    "    plt.title(\"Training loss vs. Validation loss\")\n",
    "    plt.xlabel(\"epochs\")\n",
    "    plt.ylabel(\"Accuracy\")\n",
    "    ax.legend(['Train','Validation'],loc='upper right')\n",
    "    plt.savefig(loss_name)"
   ]
  },
  {
   "cell_type": "code",
   "execution_count": null,
   "metadata": {},
   "outputs": [],
   "source": []
  },
  {
   "cell_type": "code",
   "execution_count": 3,
   "metadata": {},
   "outputs": [],
   "source": [
    "model = keras.models.load_model(save_path)"
   ]
  },
  {
   "cell_type": "code",
   "execution_count": 4,
   "metadata": {},
   "outputs": [
    {
     "name": "stdout",
     "output_type": "stream",
     "text": [
      "Found 10954 validated image filenames belonging to 9 classes.\n"
     ]
    }
   ],
   "source": [
    "train_label_path, train_image_path, valid_label_path, valid_image_path, target, size = all_info[\"load_data\"].values()\n",
    "lr, epochs, batch_size, mapping_path, save_path, log_path = model_param.values()\n",
    "\n",
    "valid_gen = create_generator(valid_label_path,\n",
    "                                 valid_image_path,\n",
    "                                 target,\n",
    "                                 size,\n",
    "                                 batch_size,\n",
    "                                 mapping_path,\n",
    "                                 resnet_v2.preprocess_input, ##change this\n",
    "                                 is_training = False)\n"
   ]
  },
  {
   "cell_type": "code",
   "execution_count": 5,
   "metadata": {},
   "outputs": [],
   "source": [
    "pred = model.predict(valid_gen)"
   ]
  },
  {
   "cell_type": "code",
   "execution_count": 122,
   "metadata": {},
   "outputs": [],
   "source": [
    "from sklearn.metrics import classification_report\n",
    "from sklearn.metrics import confusion_matrix\n",
    "\n",
    "def create_stats(model, generator, label_df, target, target_map, save_path):\n",
    "    pred = model.predict(generator).argmax(axis = 1)\n",
    "    ground_truth = label_df[target].replace(target_map).values\n",
    "    cr = classification_report(ground_truth, pred_arg, target_names = target_map.keys())\n",
    "    \n",
    "    with open(os.path.join(save_path, \"class_report.txt\"), \"w\") as f:\n",
    "        f.write(cr)\n",
    "    f.close()\n",
    "    \n",
    "    cr = classification_report(ground_truth, pred_arg, target_names = target_map.keys(), output_dict = True)\n",
    "    \n",
    "    result_df = pd.DataFrame(cr).T.iloc[:len(target_map), :]\n",
    "    result_df = result_df.reset_index().rename(columns= {\"index\": \"category\"})\n",
    "\n",
    "    cm = confusion_matrix(ground_truth, pred_arg)\n",
    "    cm = cm.astype('float') / cm.sum(axis=1)[:, np.newaxis]\n",
    "    acc = cm.diagonal()\n",
    "    result_df[\"accuracy\"] = acc\n",
    "    \n",
    "    stat_names = [\"precision\", \"recall\", \"f1-score\", \"accuracy\", \"support\"]\n",
    "    \n",
    "    for name in stat_names:\n",
    "        save_dir = os.path.join(save_path, name + \"_barplot\")\n",
    "        plt.figure(figsize = (12,8))\n",
    "        sns.barplot(x = \"category\", y= name, data= result_df,linewidth=2.5, \n",
    "                    facecolor=(1, 1, 1, 0), edgecolor=\"0\")\n",
    "        plt.title(\"{} across {}\".format(name, target), fontsize = 20)\n",
    "        plt.xlabel(target, fontsize = 16)\n",
    "        plt.ylabel(name, fontsize= 16)\n",
    "        plt.savefig(save_dir)    \n",
    "    \n",
    "    \n",
    "    \n",
    "    \n",
    "    "
   ]
  },
  {
   "cell_type": "code",
   "execution_count": 123,
   "metadata": {},
   "outputs": [
    {
     "data": {
      "image/png": "[encoded data removed]",
      "text/plain": [
       "<Figure size 864x576 with 1 Axes>"
      ]
     },
     "metadata": {
      "needs_background": "light"
     },
     "output_type": "display_data"
    },
    {
     "data": {
      "image/png": "[encoded data removed]",
      "text/plain": [
       "<Figure size 864x576 with 1 Axes>"
      ]
     },
     "metadata": {
      "needs_background": "light"
     },
     "output_type": "display_data"
    },
    {
     "data": {
      "image/png": "[encoded data removed]",
      "text/plain": [
       "<Figure size 864x576 with 1 Axes>"
      ]
     },
     "metadata": {
      "needs_background": "light"
     },
     "output_type": "display_data"
    },
    {
     "data": {
      "image/png": "[encoded data removed]",
      "text/plain": [
       "<Figure size 864x576 with 1 Axes>"
      ]
     },
     "metadata": {
      "needs_background": "light"
     },
     "output_type": "display_data"
    },
    {
     "data": {
      "image/png": "[encoded data removed]",
      "text/plain": [
       "<Figure size 864x576 with 1 Axes>"
      ]
     },
     "metadata": {
      "needs_background": "light"
     },
     "output_type": "display_data"
    }
   ],
   "source": [
    "create_stats(model, valid_gen, pd.read_csv(valid_label_path), \"age\", age_map, \"./visualization/age/training_progress\")"
   ]
  },
  {
   "cell_type": "code",
   "execution_count": 6,
   "metadata": {},
   "outputs": [],
   "source": [
    "\n",
    "with open(mapping_path) as f:\n",
    "    age_map = json.load(f)\n",
    "f.close()\n",
    "#age_map = {val:key for key, val in age_map.items()}"
   ]
  },
  {
   "cell_type": "code",
   "execution_count": 7,
   "metadata": {},
   "outputs": [
    {
     "data": {
      "text/plain": [
       "array([3, 5, 5, ..., 7, 2, 6])"
      ]
     },
     "execution_count": 7,
     "metadata": {},
     "output_type": "execute_result"
    }
   ],
   "source": [
    "pred_arg = pred.argmax(axis = 1)\n",
    "ground_truth = pd.read_csv(valid_label_path)[\"age\"].replace(age_map).values\n",
    "pred_arg"
   ]
  },
  {
   "cell_type": "code",
   "execution_count": 10,
   "metadata": {},
   "outputs": [],
   "source": [
    "age_map_rev = {val:key for key, val in age_map.items()}"
   ]
  },
  {
   "cell_type": "code",
   "execution_count": 15,
   "metadata": {},
   "outputs": [
    {
     "data": {
      "text/plain": [
       "{0: '0-2',\n",
       " 1: '10-19',\n",
       " 2: '20-29',\n",
       " 3: '3-9',\n",
       " 4: '30-39',\n",
       " 5: '40-49',\n",
       " 6: '50-59',\n",
       " 7: '60-69',\n",
       " 8: 'more than 70'}"
      ]
     },
     "execution_count": 15,
     "metadata": {},
     "output_type": "execute_result"
    }
   ],
   "source": []
  },
  {
   "cell_type": "code",
   "execution_count": 29,
   "metadata": {},
   "outputs": [],
   "source": [
    "from sklearn.metrics import classification_report\n",
    "\n",
    "cr_age = classification_report(ground_truth, pred_arg, target_names=age_map.keys(), output_dict = True)\n",
    "\n",
    "#with open(\"./test.txt\", \"w\") as f:\n",
    "#    f.write(cr_age)"
   ]
  },
  {
   "cell_type": "code",
   "execution_count": 58,
   "metadata": {},
   "outputs": [
    {
     "data": {
      "text/html": [
       "<div>\n",
       "<style scoped>\n",
       "    .dataframe tbody tr th:only-of-type {\n",
       "        vertical-align: middle;\n",
       "    }\n",
       "\n",
       "    .dataframe tbody tr th {\n",
       "        vertical-align: top;\n",
       "    }\n",
       "\n",
       "    .dataframe thead th {\n",
       "        text-align: right;\n",
       "    }\n",
       "</style>\n",
       "<table border=\"1\" class=\"dataframe\">\n",
       "  <thead>\n",
       "    <tr style=\"text-align: right;\">\n",
       "      <th></th>\n",
       "      <th>index</th>\n",
       "      <th>precision</th>\n",
       "      <th>recall</th>\n",
       "      <th>f1-score</th>\n",
       "      <th>support</th>\n",
       "    </tr>\n",
       "  </thead>\n",
       "  <tbody>\n",
       "    <tr>\n",
       "      <th>0</th>\n",
       "      <td>0-2</td>\n",
       "      <td>0.776042</td>\n",
       "      <td>0.748744</td>\n",
       "      <td>0.762148</td>\n",
       "      <td>199.0</td>\n",
       "    </tr>\n",
       "    <tr>\n",
       "      <th>1</th>\n",
       "      <td>10-19</td>\n",
       "      <td>0.521632</td>\n",
       "      <td>0.357324</td>\n",
       "      <td>0.424121</td>\n",
       "      <td>1181.0</td>\n",
       "    </tr>\n",
       "    <tr>\n",
       "      <th>2</th>\n",
       "      <td>20-29</td>\n",
       "      <td>0.605557</td>\n",
       "      <td>0.739697</td>\n",
       "      <td>0.665939</td>\n",
       "      <td>3300.0</td>\n",
       "    </tr>\n",
       "    <tr>\n",
       "      <th>3</th>\n",
       "      <td>3-9</td>\n",
       "      <td>0.778659</td>\n",
       "      <td>0.796460</td>\n",
       "      <td>0.787459</td>\n",
       "      <td>1356.0</td>\n",
       "    </tr>\n",
       "    <tr>\n",
       "      <th>4</th>\n",
       "      <td>30-39</td>\n",
       "      <td>0.456689</td>\n",
       "      <td>0.432189</td>\n",
       "      <td>0.444101</td>\n",
       "      <td>2330.0</td>\n",
       "    </tr>\n",
       "    <tr>\n",
       "      <th>5</th>\n",
       "      <td>40-49</td>\n",
       "      <td>0.446113</td>\n",
       "      <td>0.373245</td>\n",
       "      <td>0.406439</td>\n",
       "      <td>1353.0</td>\n",
       "    </tr>\n",
       "    <tr>\n",
       "      <th>6</th>\n",
       "      <td>50-59</td>\n",
       "      <td>0.464586</td>\n",
       "      <td>0.486181</td>\n",
       "      <td>0.475138</td>\n",
       "      <td>796.0</td>\n",
       "    </tr>\n",
       "    <tr>\n",
       "      <th>7</th>\n",
       "      <td>60-69</td>\n",
       "      <td>0.437908</td>\n",
       "      <td>0.417445</td>\n",
       "      <td>0.427432</td>\n",
       "      <td>321.0</td>\n",
       "    </tr>\n",
       "    <tr>\n",
       "      <th>8</th>\n",
       "      <td>more than 70</td>\n",
       "      <td>0.576271</td>\n",
       "      <td>0.288136</td>\n",
       "      <td>0.384181</td>\n",
       "      <td>118.0</td>\n",
       "    </tr>\n",
       "  </tbody>\n",
       "</table>\n",
       "</div>"
      ],
      "text/plain": [
       "          index  precision    recall  f1-score  support\n",
       "0           0-2   0.776042  0.748744  0.762148    199.0\n",
       "1         10-19   0.521632  0.357324  0.424121   1181.0\n",
       "2         20-29   0.605557  0.739697  0.665939   3300.0\n",
       "3           3-9   0.778659  0.796460  0.787459   1356.0\n",
       "4         30-39   0.456689  0.432189  0.444101   2330.0\n",
       "5         40-49   0.446113  0.373245  0.406439   1353.0\n",
       "6         50-59   0.464586  0.486181  0.475138    796.0\n",
       "7         60-69   0.437908  0.417445  0.427432    321.0\n",
       "8  more than 70   0.576271  0.288136  0.384181    118.0"
      ]
     },
     "execution_count": 58,
     "metadata": {},
     "output_type": "execute_result"
    }
   ],
   "source": [
    "a = pd.DataFrame(cr_age).T\n",
    "a = a.iloc[:9, :]\n",
    "a = a.reset_index()\n",
    "a"
   ]
  },
  {
   "cell_type": "code",
   "execution_count": 36,
   "metadata": {},
   "outputs": [],
   "source": [
    "from sklearn.metrics import accuracy_score\n",
    "from sklearn.metrics import confusion_matrix\n",
    "\n"
   ]
  },
  {
   "cell_type": "code",
   "execution_count": 51,
   "metadata": {},
   "outputs": [],
   "source": [
    "cm = confusion_matrix(ground_truth, pred_arg)\n",
    "cm = cm.astype('float') / cm.sum(axis=1)[:, np.newaxis]"
   ]
  },
  {
   "cell_type": "code",
   "execution_count": 52,
   "metadata": {},
   "outputs": [
    {
     "data": {
      "text/plain": [
       "array([0.74874372, 0.3573243 , 0.73969697, 0.79646018, 0.43218884,\n",
       "       0.37324464, 0.4861809 , 0.41744548, 0.28813559])"
      ]
     },
     "execution_count": 52,
     "metadata": {},
     "output_type": "execute_result"
    }
   ],
   "source": [
    "cm.diagonal()"
   ]
  },
  {
   "cell_type": "code",
   "execution_count": 119,
   "metadata": {},
   "outputs": [
    {
     "data": {
      "text/plain": [
       "Text(0.5, 1.0, 'index')"
      ]
     },
     "execution_count": 119,
     "metadata": {},
     "output_type": "execute_result"
    },
    {
     "data": {
      "image/png": "[encoded data removed]",
      "text/plain": [
       "<Figure size 864x576 with 1 Axes>"
      ]
     },
     "metadata": {
      "needs_background": "light"
     },
     "output_type": "display_data"
    }
   ],
   "source": [
    "plt.figure(figsize = (12,8))\n",
    "sns.barplot(x = \"index\", y=\"precision\", data=a,linewidth=2.5, facecolor=(1, 1, 1, 0),\n",
    "                  edgecolor=\"0\")\n",
    "plt.title(\"index\", fontsize = 26)"
   ]
  },
  {
   "cell_type": "code",
   "execution_count": null,
   "metadata": {},
   "outputs": [],
   "source": []
  }
 ],
 "metadata": {
  "kernelspec": {
   "display_name": "Python 3",
   "language": "python",
   "name": "python3"
  },
  "language_info": {
   "codemirror_mode": {
    "name": "ipython",
    "version": 3
   },
   "file_extension": ".py",
   "mimetype": "text/x-python",
   "name": "python",
   "nbconvert_exporter": "python",
   "pygments_lexer": "ipython3",
   "version": "3.8.6"
  }
 },
 "nbformat": 4,
 "nbformat_minor": 4
}
