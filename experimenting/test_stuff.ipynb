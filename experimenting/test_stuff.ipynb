{
 "cells": [
  {
   "cell_type": "code",
   "execution_count": null,
   "metadata": {},
   "outputs": [],
   "source": [
    "#############testing##############\n",
    "if \"test\" in targets:\n",
    "    with open(\"./test_data/parameters.json\") as param:\n",
    "        data = json.load(param)\n",
    "        model_param = data[\"model_param\"]\n",
    "        data_info = data[\"load_data\"]\n",
    "\n",
    "    param.close()\n",
    "\n",
    "    lr, epochs, batch_size, mapping_path, save_path, log_path = model_param.values()\n",
    "    train_label_path, train_image_path, valid_label_path, valid_image_path, target, size = data_info.values()\n",
    "#############testing##############"
   ]
  },
  {
   "cell_type": "code",
   "execution_count": null,
   "metadata": {},
   "outputs": [],
   "source": [
    "#############testing##############\n",
    "    if \"test\" in targets:\n",
    "        with open(\"./test_data/parameters.json\") as param:\n",
    "            parameters = json.load(param)\n",
    "            integrated_grad = parameters[\"integrated_grad\"]\n",
    "        param.close()\n",
    "    #############testing##############"
   ]
  }
 ],
 "metadata": {
  "kernelspec": {
   "display_name": "Python 3",
   "language": "python",
   "name": "python3"
  },
  "language_info": {
   "codemirror_mode": {
    "name": "ipython",
    "version": 3
   },
   "file_extension": ".py",
   "mimetype": "text/x-python",
   "name": "python",
   "nbconvert_exporter": "python",
   "pygments_lexer": "ipython3",
   "version": "3.8.6"
  }
 },
 "nbformat": 4,
 "nbformat_minor": 4
}
